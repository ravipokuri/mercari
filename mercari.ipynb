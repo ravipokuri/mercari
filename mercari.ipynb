{
 "cells": [
  {
   "cell_type": "markdown",
   "metadata": {},
   "source": [
    "**BUSINESS PROBLEM**\n",
    "  Mercari asked us to build a machine learning model which\n",
    "tries to best fit the given features of the products and predicts the\n",
    "prices of those products. Since we are predicting the prices of\n",
    "products,it poses a regression problem. If we predict the price to\n",
    "be much lower than the actual market price the it would be a loss\n",
    "for person who sells the product,if we predict the price to be\n",
    "much higher than the actual market price then it would be a loss\n",
    "for person who buys that product,so the model we are predicting\n",
    "should be very precise i.e it should predict the prices within in the\n",
    "within the close vicinity of the actual price.\n",
    "strictly speaking there is no latency constraint because\n",
    "people may wait for time to get the correct prices of the products\n",
    "so that no one will get loss i.e both buyer and seller.\n"
   ]
  },
  {
   "cell_type": "markdown",
   "metadata": {},
   "source": [
    "**ML PROBLEM FORMULATION**\n",
    "   here we have to predict the price of a product given with features,which is a numerical value,so it poses us a regression problem"
   ]
  },
  {
   "attachments": {
    "image.png": {
     "image/png": "[encoded data removed]"
    }
   },
   "cell_type": "markdown",
   "metadata": {},
   "source": [
    "**PERFORMANC METRIC**\n",
    "  performance metric here we are using is root mean squared logarithmic error,instead of mse because the prices in training dataset follows the lo_nrmal distribution. \n",
    "     ![image.png](attachment:image.png)"
   ]
  },
  {
   "cell_type": "code",
   "execution_count": 2,
   "metadata": {
    "id": "qN0q2Ok1TFi9"
   },
   "outputs": [],
   "source": [
    "import warnings\n",
    "warnings.filterwarnings(\"ignore\")\n",
    "import pandas as pd\n",
    "import numpy as np\n",
    "import matplotlib.pyplot as plt\n",
    "import seaborn as sns\n",
    "from sklearn.feature_extraction.text import TfidfVectorizer\n",
    "from sklearn.feature_extraction.text import CountVectorizer\n",
    "import os\n",
    "from concurrent.futures import ThreadPoolExecutor,as_completed\n",
    "import pickle\n",
    "import nltk\n",
    "from nltk.sentiment.vader import SentimentIntensityAnalyzer\n",
    "from sklearn.metrics import mean_squared_error\n",
    "import math"
   ]
  },
  {
   "cell_type": "code",
   "execution_count": null,
   "metadata": {
    "id": "gqHhtP71UYJH"
   },
   "outputs": [],
   "source": [
    "train=pd.read_csv('train.tsv',sep='\\t')"
   ]
  },
  {
   "cell_type": "code",
   "execution_count": null,
   "metadata": {
    "colab": {
     "base_uri": "https://localhost:8080/",
     "height": 265
    },
    "id": "EcFsqB8lUxdO",
    "outputId": "9ddd60f2-0a8a-4826-bc77-cacfed2d2ad2"
   },
   "outputs": [
    {
     "data": {
      "text/html": [
       "<div>\n",
       "<style scoped>\n",
       "    .dataframe tbody tr th:only-of-type {\n",
       "        vertical-align: middle;\n",
       "    }\n",
       "\n",
       "    .dataframe tbody tr th {\n",
       "        vertical-align: top;\n",
       "    }\n",
       "\n",
       "    .dataframe thead th {\n",
       "        text-align: right;\n",
       "    }\n",
       "</style>\n",
       "<table border=\"1\" class=\"dataframe\">\n",
       "  <thead>\n",
       "    <tr style=\"text-align: right;\">\n",
       "      <th></th>\n",
       "      <th>train_id</th>\n",
       "      <th>name</th>\n",
       "      <th>item_condition_id</th>\n",
       "      <th>category_name</th>\n",
       "      <th>brand_name</th>\n",
       "      <th>price</th>\n",
       "      <th>shipping</th>\n",
       "      <th>item_description</th>\n",
       "    </tr>\n",
       "  </thead>\n",
       "  <tbody>\n",
       "    <tr>\n",
       "      <th>0</th>\n",
       "      <td>0</td>\n",
       "      <td>MLB Cincinnati Reds T Shirt Size XL</td>\n",
       "      <td>3</td>\n",
       "      <td>Men/Tops/T-shirts</td>\n",
       "      <td>NaN</td>\n",
       "      <td>10.0</td>\n",
       "      <td>1</td>\n",
       "      <td>No description yet</td>\n",
       "    </tr>\n",
       "    <tr>\n",
       "      <th>1</th>\n",
       "      <td>1</td>\n",
       "      <td>Razer BlackWidow Chroma Keyboard</td>\n",
       "      <td>3</td>\n",
       "      <td>Electronics/Computers &amp; Tablets/Components &amp; P...</td>\n",
       "      <td>Razer</td>\n",
       "      <td>52.0</td>\n",
       "      <td>0</td>\n",
       "      <td>This keyboard is in great condition and works ...</td>\n",
       "    </tr>\n",
       "    <tr>\n",
       "      <th>2</th>\n",
       "      <td>2</td>\n",
       "      <td>AVA-VIV Blouse</td>\n",
       "      <td>1</td>\n",
       "      <td>Women/Tops &amp; Blouses/Blouse</td>\n",
       "      <td>Target</td>\n",
       "      <td>10.0</td>\n",
       "      <td>1</td>\n",
       "      <td>Adorable top with a hint of lace and a key hol...</td>\n",
       "    </tr>\n",
       "    <tr>\n",
       "      <th>3</th>\n",
       "      <td>3</td>\n",
       "      <td>Leather Horse Statues</td>\n",
       "      <td>1</td>\n",
       "      <td>Home/Home Décor/Home Décor Accents</td>\n",
       "      <td>NaN</td>\n",
       "      <td>35.0</td>\n",
       "      <td>1</td>\n",
       "      <td>New with tags. Leather horses. Retail for [rm]...</td>\n",
       "    </tr>\n",
       "    <tr>\n",
       "      <th>4</th>\n",
       "      <td>4</td>\n",
       "      <td>24K GOLD plated rose</td>\n",
       "      <td>1</td>\n",
       "      <td>Women/Jewelry/Necklaces</td>\n",
       "      <td>NaN</td>\n",
       "      <td>44.0</td>\n",
       "      <td>0</td>\n",
       "      <td>Complete with certificate of authenticity</td>\n",
       "    </tr>\n",
       "  </tbody>\n",
       "</table>\n",
       "</div>"
      ],
      "text/plain": [
       "   train_id                                 name  item_condition_id  \\\n",
       "0         0  MLB Cincinnati Reds T Shirt Size XL                  3   \n",
       "1         1     Razer BlackWidow Chroma Keyboard                  3   \n",
       "2         2                       AVA-VIV Blouse                  1   \n",
       "3         3                Leather Horse Statues                  1   \n",
       "4         4                 24K GOLD plated rose                  1   \n",
       "\n",
       "                                       category_name brand_name  price  \\\n",
       "0                                  Men/Tops/T-shirts        NaN   10.0   \n",
       "1  Electronics/Computers & Tablets/Components & P...      Razer   52.0   \n",
       "2                        Women/Tops & Blouses/Blouse     Target   10.0   \n",
       "3                 Home/Home Décor/Home Décor Accents        NaN   35.0   \n",
       "4                            Women/Jewelry/Necklaces        NaN   44.0   \n",
       "\n",
       "   shipping                                   item_description  \n",
       "0         1                                 No description yet  \n",
       "1         0  This keyboard is in great condition and works ...  \n",
       "2         1  Adorable top with a hint of lace and a key hol...  \n",
       "3         1  New with tags. Leather horses. Retail for [rm]...  \n",
       "4         0          Complete with certificate of authenticity  "
      ]
     },
     "execution_count": 54,
     "metadata": {
      "tags": []
     },
     "output_type": "execute_result"
    }
   ],
   "source": [
    "train.head(5)"
   ]
  },
  {
   "cell_type": "code",
   "execution_count": null,
   "metadata": {
    "id": "_plS9XHM3WeL",
    "outputId": "3cd98478-fe77-450f-d1c5-54f0969c0131"
   },
   "outputs": [
    {
     "data": {
      "text/plain": [
       "(1482535, 8)"
      ]
     },
     "execution_count": 4,
     "metadata": {
      "tags": []
     },
     "output_type": "execute_result"
    }
   ],
   "source": [
    "train.shape"
   ]
  },
  {
   "cell_type": "code",
   "execution_count": null,
   "metadata": {
    "id": "nnZEnZXS3WeM"
   },
   "outputs": [],
   "source": [
    "test=pd.read_csv('test_stg2.tsv',sep='\\t')"
   ]
  },
  {
   "cell_type": "code",
   "execution_count": null,
   "metadata": {
    "id": "Bv3nERtZ3WeM",
    "outputId": "0b17718d-46f5-4ac7-8310-f3977521168c"
   },
   "outputs": [
    {
     "data": {
      "text/plain": [
       "(3460725, 7)"
      ]
     },
     "execution_count": 56,
     "metadata": {
      "tags": []
     },
     "output_type": "execute_result"
    }
   ],
   "source": [
    "test.shape"
   ]
  },
  {
   "cell_type": "code",
   "execution_count": null,
   "metadata": {
    "colab": {
     "base_uri": "https://localhost:8080/"
    },
    "id": "p7rv_B8IVPNN",
    "outputId": "ddf42d4f-3e1d-4cca-da55-d1396478e9f1"
   },
   "outputs": [
    {
     "data": {
      "text/plain": [
       "train_id                  0\n",
       "name                      0\n",
       "item_condition_id         0\n",
       "category_name          6327\n",
       "brand_name           632682\n",
       "price                     0\n",
       "shipping                  0\n",
       "item_description          4\n",
       "dtype: int64"
      ]
     },
     "execution_count": 7,
     "metadata": {
      "tags": []
     },
     "output_type": "execute_result"
    }
   ],
   "source": [
    "train.isna().sum()"
   ]
  },
  {
   "cell_type": "markdown",
   "metadata": {
    "id": "7gHJvVto3WeN"
   },
   "source": [
    "**filling missing values in train**"
   ]
  },
  {
   "cell_type": "code",
   "execution_count": null,
   "metadata": {
    "id": "d0nJZ0e83WeO",
    "outputId": "942bbfda-4c5b-434b-85e6-274635acbac3"
   },
   "outputs": [
    {
     "name": "stdout",
     "output_type": "stream",
     "text": [
      "CPU times: user 5min 40s, sys: 60.2 ms, total: 5min 40s\n",
      "Wall time: 5min 40s\n"
     ]
    },
    {
     "data": {
      "text/plain": [
       "train_id                  0\n",
       "name                      0\n",
       "item_condition_id         0\n",
       "category_name             0\n",
       "brand_name                0\n",
       "price                     0\n",
       "shipping                  0\n",
       "item_description          0\n",
       "comb                 849853\n",
       "dtype: int64"
      ]
     },
     "execution_count": 57,
     "metadata": {
      "tags": []
     },
     "output_type": "execute_result"
    }
   ],
   "source": [
    "%%time\n",
    "train.category_name.fillna(value='others/others/others',inplace=True)\n",
    "train.item_description.fillna(value='description not given',inplace=True)\n",
    "list1=list(train['brand_name'].unique())\n",
    "list1 = list(filter(lambda x:str(x) !='nan',list1))\n",
    "data=train[train['brand_name'].isnull()]\n",
    "train.dropna(inplace=True)\n",
    "data['comb']=data['name']+' '+data['item_description']\n",
    "list2=data['comb'].values\n",
    "brand_list=[]\n",
    "for i in list2:\n",
    "    c=0\n",
    "    for j in list1:\n",
    "        if j in i:\n",
    "            brand_list.append(j)\n",
    "            c=1\n",
    "            break\n",
    "    if c==0:\n",
    "        brand_list.append(np.nan)        \n",
    "data['brand_name']=brand_list\n",
    "data.brand_name.fillna(value='unknown',inplace=True)\n",
    "train=pd.concat([train,data],ignore_index=True)\n",
    "train=train.sort_values(by='train_id')\n",
    "train.isna().sum()"
   ]
  },
  {
   "cell_type": "code",
   "execution_count": null,
   "metadata": {
    "id": "YQqR59uR3WeP"
   },
   "outputs": [],
   "source": [
    "train.drop('comb',axis=1,inplace=True)"
   ]
  },
  {
   "cell_type": "code",
   "execution_count": null,
   "metadata": {
    "id": "2qkpJzdc3WeP",
    "outputId": "144ced4c-6b1d-4330-e10d-d7dd62a36d8e"
   },
   "outputs": [
    {
     "data": {
      "text/plain": [
       "(1482535, 8)"
      ]
     },
     "execution_count": 10,
     "metadata": {
      "tags": []
     },
     "output_type": "execute_result"
    }
   ],
   "source": [
    "train.shape"
   ]
  },
  {
   "cell_type": "markdown",
   "metadata": {
    "id": "2CxLwDlr3WeQ"
   },
   "source": [
    "**filling missing values in test**"
   ]
  },
  {
   "cell_type": "code",
   "execution_count": null,
   "metadata": {
    "id": "YnepDmVW3WeQ",
    "outputId": "4ae39d17-2c46-4617-c9b7-463482f42858"
   },
   "outputs": [
    {
     "data": {
      "text/plain": [
       "test_id                    0\n",
       "name                       0\n",
       "item_condition_id          0\n",
       "category_name          14833\n",
       "brand_name           1476490\n",
       "shipping                   0\n",
       "item_description           6\n",
       "dtype: int64"
      ]
     },
     "execution_count": 11,
     "metadata": {
      "tags": []
     },
     "output_type": "execute_result"
    }
   ],
   "source": [
    "test.isna().sum()"
   ]
  },
  {
   "cell_type": "code",
   "execution_count": null,
   "metadata": {
    "id": "psEVXglm3WeR",
    "outputId": "aeb95c48-f2ba-4aee-8f69-d30365fb5330"
   },
   "outputs": [
    {
     "name": "stdout",
     "output_type": "stream",
     "text": [
      "test_id                   0\n",
      "name                      0\n",
      "item_condition_id         0\n",
      "category_name             0\n",
      "brand_name           453320\n",
      "shipping                  0\n",
      "item_description          0\n",
      "comb                      0\n",
      "dtype: int64\n",
      "CPU times: user 14min 53s, sys: 428 ms, total: 14min 53s\n",
      "Wall time: 14min 53s\n"
     ]
    },
    {
     "data": {
      "text/plain": [
       "test_id              0\n",
       "name                 0\n",
       "item_condition_id    0\n",
       "category_name        0\n",
       "brand_name           0\n",
       "shipping             0\n",
       "item_description     0\n",
       "dtype: int64"
      ]
     },
     "execution_count": 59,
     "metadata": {
      "tags": []
     },
     "output_type": "execute_result"
    }
   ],
   "source": [
    "%%time\n",
    "test.category_name.fillna(value='others/others/others',inplace=True)\n",
    "test.item_description.fillna(value='description not given',inplace=True)\n",
    "list1=list(test['brand_name'].unique())\n",
    "list1 = list(filter(lambda x:str(x) !='nan',list1))\n",
    "data=test[test['brand_name'].isnull()]\n",
    "test.dropna(inplace=True)\n",
    "data['comb']=data['name']+' '+data['item_description']\n",
    "list2=data['comb'].values\n",
    "brand_list=[]\n",
    "for i in list2:\n",
    "    c=0\n",
    "    for j in list1:\n",
    "        if j in i:\n",
    "            brand_list.append(j)\n",
    "            c=1\n",
    "            break\n",
    "    if c==0:\n",
    "        brand_list.append(np.nan)\n",
    "data['brand_name']=brand_list\n",
    "print(data.isna().sum())\n",
    "data.brand_name.fillna(value='unknown',inplace=True)\n",
    "test=pd.concat([test,data],ignore_index=True)\n",
    "test=test.sort_values(by='test_id')\n",
    "test.drop('comb',axis=1,inplace=True)\n",
    "test.isna().sum()"
   ]
  },
  {
   "cell_type": "code",
   "execution_count": null,
   "metadata": {
    "colab": {
     "base_uri": "https://localhost:8080/"
    },
    "id": "9ASn4E3aWAvc",
    "outputId": "2391a9d0-cbe2-40f5-8216-0b2ba27e219c"
   },
   "outputs": [
    {
     "data": {
      "text/plain": [
       "(3460725, 7)"
      ]
     },
     "execution_count": 13,
     "metadata": {
      "tags": []
     },
     "output_type": "execute_result"
    }
   ],
   "source": [
    "test.shape"
   ]
  },
  {
   "cell_type": "markdown",
   "metadata": {
    "id": "YYotJoG_3WeS"
   },
   "source": [
    "**univariate analysis**"
   ]
  },
  {
   "cell_type": "code",
   "execution_count": null,
   "metadata": {
    "colab": {
     "base_uri": "https://localhost:8080/",
     "height": 422
    },
    "id": "EWIe9pAeWUzc",
    "outputId": "97a02379-3d4d-4ca4-a1af-b3040d7f4f4d"
   },
   "outputs": [
    {
     "data": {
      "text/plain": [
       "array([[<AxesSubplot:title={'center':'price'}>]], dtype=object)"
      ]
     },
     "execution_count": 60,
     "metadata": {
      "tags": []
     },
     "output_type": "execute_result"
    },
    {
     "data": {
      "image/png": "[encoded data removed]",
      "text/plain": [
       "<Figure size 576x576 with 1 Axes>"
      ]
     },
     "metadata": {
      "needs_background": "light",
      "tags": []
     },
     "output_type": "display_data"
    }
   ],
   "source": [
    "train.hist(column='price',bins=35,grid=False,figsize=[8,8])"
   ]
  },
  {
   "cell_type": "code",
   "execution_count": null,
   "metadata": {
    "colab": {
     "base_uri": "https://localhost:8080/"
    },
    "id": "l5LhL7xHXuVJ",
    "outputId": "20983ba4-5578-473d-ca90-1875636af825"
   },
   "outputs": [
    {
     "data": {
      "text/plain": [
       "0.1       7.0\n",
       "0.2      10.0\n",
       "0.3      12.0\n",
       "0.4      14.0\n",
       "0.5      17.0\n",
       "0.6      20.0\n",
       "0.7      26.0\n",
       "0.8      34.0\n",
       "0.9      51.0\n",
       "1.0    2009.0\n",
       "Name: price, dtype: float64"
      ]
     },
     "execution_count": 61,
     "metadata": {
      "tags": []
     },
     "output_type": "execute_result"
    }
   ],
   "source": [
    "#from the histogram plot of price it is clear that most of prices falles below 250\n",
    "train['price'].quantile([0.1,0.2,0.3,0.4,0.5,0.6,0.7,0.8,0.9,1])"
   ]
  },
  {
   "cell_type": "code",
   "execution_count": null,
   "metadata": {
    "colab": {
     "base_uri": "https://localhost:8080/"
    },
    "id": "oX2SULCPZuF4",
    "outputId": "eb60ce64-71ef-4f18-f332-57b0f5826acb"
   },
   "outputs": [
    {
     "data": {
      "text/plain": [
       "0.90     51.0\n",
       "0.91     55.0\n",
       "0.92     58.0\n",
       "0.93     62.0\n",
       "0.94     67.0\n",
       "0.95     75.0\n",
       "0.96     85.0\n",
       "0.97     99.0\n",
       "0.98    122.0\n",
       "0.99    170.0\n",
       "Name: price, dtype: float64"
      ]
     },
     "execution_count": 62,
     "metadata": {
      "tags": []
     },
     "output_type": "execute_result"
    }
   ],
   "source": [
    "train['price'].quantile([0.90,0.91,0.92,0.93,0.94,0.95,0.96,0.97,0.98,0.99])\n",
    "#99 percent of data points have price less than 200"
   ]
  },
  {
   "cell_type": "code",
   "execution_count": null,
   "metadata": {
    "id": "t1Q17AtL3WeT"
   },
   "outputs": [],
   "source": [
    "train=train[train['price']<250]"
   ]
  },
  {
   "cell_type": "code",
   "execution_count": null,
   "metadata": {
    "id": "NyQUGvW43WeT"
   },
   "outputs": [],
   "source": [
    "perce_90th=train.price.quantile(0.9)"
   ]
  },
  {
   "cell_type": "code",
   "execution_count": null,
   "metadata": {
    "colab": {
     "base_uri": "https://localhost:8080/"
    },
    "id": "dIKIgxqhab6y",
    "outputId": "42f07417-4bf1-4685-d736-24f81c3b0c41"
   },
   "outputs": [
    {
     "name": "stdout",
     "output_type": "stream",
     "text": [
      "(1482535, 8)\n"
     ]
    }
   ],
   "source": [
    "print(train.shape)"
   ]
  },
  {
   "cell_type": "code",
   "execution_count": null,
   "metadata": {
    "colab": {
     "base_uri": "https://localhost:8080/"
    },
    "id": "-R81EdtaaliQ",
    "outputId": "bc763b65-c3e0-4635-8aa5-10cce54e60e5"
   },
   "outputs": [
    {
     "data": {
      "text/plain": [
       "1225273"
      ]
     },
     "execution_count": 18,
     "metadata": {
      "tags": []
     },
     "output_type": "execute_result"
    }
   ],
   "source": [
    "train.name.nunique()"
   ]
  },
  {
   "cell_type": "code",
   "execution_count": null,
   "metadata": {
    "colab": {
     "base_uri": "https://localhost:8080/"
    },
    "id": "UrlBTkOEa-tX",
    "outputId": "5cdb1a6a-362b-46e6-8f20-c25452bbc613"
   },
   "outputs": [
    {
     "data": {
      "text/plain": [
       "4810"
      ]
     },
     "execution_count": 19,
     "metadata": {
      "tags": []
     },
     "output_type": "execute_result"
    }
   ],
   "source": [
    "train.brand_name.nunique()"
   ]
  },
  {
   "cell_type": "code",
   "execution_count": null,
   "metadata": {
    "id": "8gPe2NY3bHwI"
   },
   "outputs": [],
   "source": [
    "def split(text):\n",
    "  return text.split('/')\n",
    "train['cat_1'],train['cat_2'],train['cat_3']=zip(*train['category_name'].apply(lambda i:split(i)))  \n",
    "test['cat_1'],test['cat_2'],test['cat_3']=zip(*test['category_name'].apply(lambda i:split(i)))"
   ]
  },
  {
   "cell_type": "code",
   "execution_count": null,
   "metadata": {
    "id": "PYV5twPM3WeU"
   },
   "outputs": [],
   "source": [
    "train['log']=np.log(train['price']+1)"
   ]
  },
  {
   "cell_type": "code",
   "execution_count": null,
   "metadata": {
    "id": "9oretRuT3WeU",
    "outputId": "05037408-843c-48ae-bccd-257ffe98b9a1"
   },
   "outputs": [
    {
     "data": {
      "text/plain": [
       "array([[<AxesSubplot:title={'center':'log'}>]], dtype=object)"
      ]
     },
     "execution_count": 67,
     "metadata": {
      "tags": []
     },
     "output_type": "execute_result"
    },
    {
     "data": {
      "image/png": "[encoded data removed]",
      "text/plain": [
       "<Figure size 576x576 with 1 Axes>"
      ]
     },
     "metadata": {
      "needs_background": "light",
      "tags": []
     },
     "output_type": "display_data"
    }
   ],
   "source": [
    "train.hist(column='log',bins=35,grid=False,figsize=[8,8])"
   ]
  },
  {
   "cell_type": "markdown",
   "metadata": {
    "id": "kjZyPjW53WeV"
   },
   "source": [
    "**observations**\n",
    "1. here we have observed that histogram graph of log of prices follows normal distributions.which means our price distribution follows log-normal distribution..that is why we are using root mean squared logarithmic error instead of root mean squared error "
   ]
  },
  {
   "cell_type": "code",
   "execution_count": null,
   "metadata": {
    "colab": {
     "base_uri": "https://localhost:8080/",
     "height": 311
    },
    "id": "Q4CC_9RjdW-I",
    "outputId": "3b28b1b8-77c6-463e-b733-d21e88eea229"
   },
   "outputs": [
    {
     "data": {
      "text/plain": [
       "Text(0.5, 1.0, 'shipping')"
      ]
     },
     "execution_count": 68,
     "metadata": {
      "tags": []
     },
     "output_type": "execute_result"
    },
    {
     "data": {
      "image/png": "[encoded data removed]",
      "text/plain": [
       "<Figure size 432x288 with 1 Axes>"
      ]
     },
     "metadata": {
      "needs_background": "light",
      "tags": []
     },
     "output_type": "display_data"
    }
   ],
   "source": [
    "# here we are plotting the count plot for shipping column. the count of 0's and 1's in shipping column are almost equal \n",
    "plt.figure()\n",
    "sns.countplot(train['shipping'])\n",
    "plt.title('shipping')"
   ]
  },
  {
   "cell_type": "markdown",
   "metadata": {
    "id": "2IXiGf623WeV"
   },
   "source": [
    "**observations**\n",
    "1.from the counterplot of shipping it is observd that products with shipping price paid by the paid by the buyer are more when compared to the products with shipping price paid by the seller"
   ]
  },
  {
   "cell_type": "code",
   "execution_count": null,
   "metadata": {
    "colab": {
     "base_uri": "https://localhost:8080/",
     "height": 312
    },
    "id": "0yDBrnwmelI4",
    "outputId": "940c2dbb-d8f9-4b73-c70c-7164a874d04a"
   },
   "outputs": [
    {
     "data": {
      "text/plain": [
       "Text(0.5, 1.0, 'item_condition')"
      ]
     },
     "execution_count": 69,
     "metadata": {
      "tags": []
     },
     "output_type": "execute_result"
    },
    {
     "data": {
      "image/png": "[encoded data removed]",
      "text/plain": [
       "<Figure size 432x288 with 1 Axes>"
      ]
     },
     "metadata": {
      "needs_background": "light",
      "tags": []
     },
     "output_type": "display_data"
    }
   ],
   "source": [
    "# plotting the count plot for item_coondition_id, as we see most of the items conditions falls in 1,2,3, category \n",
    "plt.figure()\n",
    "sns.countplot(train['item_condition_id'])\n",
    "plt.title('item_condition')"
   ]
  },
  {
   "cell_type": "markdown",
   "metadata": {
    "id": "VfgYF42-3WeW"
   },
   "source": [
    "**observations**\n",
    "1. from the counter plot on item_condition it is clear that most of the product are in good condition with value 1.followed by the 3 and 2.very few products are in bad condition with item_condtion_id as 5 followed by 4."
   ]
  },
  {
   "cell_type": "code",
   "execution_count": null,
   "metadata": {
    "id": "qeCQ1cvB3WeW",
    "outputId": "1c88b658-4860-4ee7-ceb0-6b0507516d5e"
   },
   "outputs": [
    {
     "name": "stdout",
     "output_type": "stream",
     "text": [
      "['unknown', 'M', 'Nike', 'PINK', \"Victoria's Secret\", 'LuLaRoe', 'All', 'Apple', 'Nintendo', 'Rae Dunn', 'FOREVER 21', 'Michael Kors', 'Lululemon', 'Disney', 'American Eagle', 'X', 'Sephora', 'Coach', 'Adidas', 'Funko']\n"
     ]
    }
   ],
   "source": [
    "print(list(train['brand_name'].value_counts()[:20].index))"
   ]
  },
  {
   "cell_type": "code",
   "execution_count": null,
   "metadata": {
    "colab": {
     "base_uri": "https://localhost:8080/",
     "height": 445
    },
    "id": "poPzEboKhb1h",
    "outputId": "639223b7-3113-4c89-eeda-36c02bc31a97"
   },
   "outputs": [
    {
     "data": {
      "image/png": "[encoded data removed]",
      "text/plain": [
       "<Figure size 2160x720 with 1 Axes>"
      ]
     },
     "metadata": {
      "needs_background": "light",
      "tags": []
     },
     "output_type": "display_data"
    }
   ],
   "source": [
    "#printing the the top 20 brands with respect to their counts\n",
    "# most of the items falls within the brand unkown,which means for most of the products brand name is not given\n",
    "plt.figure(figsize = (30,10))\n",
    "sns.barplot(list(train['brand_name'].value_counts()[:20].index),list(train['brand_name'].value_counts()[:20]))\n",
    "plt.show()"
   ]
  },
  {
   "cell_type": "markdown",
   "metadata": {
    "id": "uLSTP-Fm3WeX"
   },
   "source": [
    "**observatios**\n",
    "1. most of the products are not given brand_name.and after that most of the products are comming for the brand M,Nike,pink.which tell us that people are interested in buying things are females."
   ]
  },
  {
   "cell_type": "code",
   "execution_count": null,
   "metadata": {
    "id": "Vjq9WXIN3WeX",
    "outputId": "199f2b6d-ea3d-47e5-adaa-c283009f3972"
   },
   "outputs": [
    {
     "name": "stdout",
     "output_type": "stream",
     "text": [
      "['Women', 'Beauty', 'Kids', 'Electronics', 'Men', 'Home', 'Vintage & Collectibles', 'Other', 'Handmade', 'Sports & Outdoors', 'others']\n"
     ]
    }
   ],
   "source": [
    "print(list(train['cat_1'].value_counts().index))"
   ]
  },
  {
   "cell_type": "code",
   "execution_count": null,
   "metadata": {
    "colab": {
     "base_uri": "https://localhost:8080/",
     "height": 443
    },
    "id": "NAKV41lykini",
    "outputId": "20194ca7-5ef8-48c8-8ed4-af20869c28da"
   },
   "outputs": [
    {
     "data": {
      "image/png": "[encoded data removed]",
      "text/plain": [
       "<Figure size 2160x720 with 1 Axes>"
      ]
     },
     "metadata": {
      "needs_background": "light",
      "tags": []
     },
     "output_type": "display_data"
    }
   ],
   "source": [
    "#printing the the top 20 cat_1 with respect to their counts\n",
    "# most of cat_1 fall with in the category women and beauty.\n",
    "plt.figure(figsize = (30,10))\n",
    "sns.barplot(list(train['cat_1'].value_counts().index),list(train['cat_1'].value_counts()))\n",
    "plt.show()"
   ]
  },
  {
   "cell_type": "markdown",
   "metadata": {
    "id": "E7B0LJtg3WeX"
   },
   "source": [
    "**observations**\n",
    "1.from the bar plot of cat_1 feature we observed that top 2 categories are related with females and next category related to kids which tell us that most people who are shopping in mercari are females. "
   ]
  },
  {
   "cell_type": "code",
   "execution_count": null,
   "metadata": {
    "id": "VfdPJOaO3WeY",
    "outputId": "2e34e455-3aa6-4fdc-fc3f-1c6385221336"
   },
   "outputs": [
    {
     "name": "stdout",
     "output_type": "stream",
     "text": [
      "['Athletic Apparel', 'Makeup', 'Tops & Blouses', 'Shoes', 'Jewelry', 'Toys', 'Cell Phones & Accessories', 'Dresses', \"Women's Handbags\", \"Women's Accessories\", 'Jeans', 'Sweaters', 'Video Games & Consoles', 'Underwear', 'Skin Care', 'Home Décor', 'Fragrance', 'Kitchen & Dining', 'Tops', 'Other']\n"
     ]
    }
   ],
   "source": [
    "print(list(train['cat_2'].value_counts()[:20].index))"
   ]
  },
  {
   "cell_type": "code",
   "execution_count": null,
   "metadata": {
    "colab": {
     "base_uri": "https://localhost:8080/",
     "height": 443
    },
    "id": "XEJODxZYkv56",
    "outputId": "23015d3c-b637-490b-e66d-3de2c4d0b324"
   },
   "outputs": [
    {
     "data": {
      "image/png": "[encoded data removed]",
      "text/plain": [
       "<Figure size 2160x720 with 1 Axes>"
      ]
     },
     "metadata": {
      "needs_background": "light",
      "tags": []
     },
     "output_type": "display_data"
    }
   ],
   "source": [
    "#printing the the top 20 cat_2 with respect to their counts\n",
    "# most of cat_2 fall with in the category athletic approval,makeup,tps & blouses and shoes\n",
    "plt.figure(figsize = (30,10))\n",
    "sns.barplot(list(train['cat_2'].value_counts()[:20].index),list(train['cat_2'].value_counts()[:20]))\n",
    "plt.show()"
   ]
  },
  {
   "cell_type": "markdown",
   "metadata": {
    "id": "PSFEZHQS3WeY"
   },
   "source": [
    "**observations**\n",
    "1.top category in cat_2 is athletic apparelwhich tell us that lot many sports people are using mercari and there might be lot many other products related to womens as second and third categories are makeup and tops and blouses.  "
   ]
  },
  {
   "cell_type": "code",
   "execution_count": null,
   "metadata": {
    "id": "8_XCk3Ib3WeY",
    "outputId": "a63b662f-0a1d-47f6-8607-9d092a76f4e2"
   },
   "outputs": [
    {
     "name": "stdout",
     "output_type": "stream",
     "text": [
      "['Pants, Tights, Leggings', 'Face', 'Other', 'T-Shirts', 'Shoes', 'Lips', 'Games', 'Athletic', 'Eyes', 'Cases, Covers & Skins', 'Shorts', 'Bras', 'Tank, Cami', 'Blouse', 'Boots', 'Above Knee, Mini', 'Necklaces', 'Makeup Palettes', 'Women', 'Shirts & Tops']\n"
     ]
    }
   ],
   "source": [
    "print(list(train['cat_3'].value_counts()[:20].index))"
   ]
  },
  {
   "cell_type": "code",
   "execution_count": null,
   "metadata": {
    "colab": {
     "base_uri": "https://localhost:8080/",
     "height": 445
    },
    "id": "VnAwTY_gk8k_",
    "outputId": "4fb396da-2a27-43b9-c27c-f193c8b44080"
   },
   "outputs": [
    {
     "data": {
      "image/png": "[encoded data removed]",
      "text/plain": [
       "<Figure size 2160x720 with 1 Axes>"
      ]
     },
     "metadata": {
      "needs_background": "light",
      "tags": []
     },
     "output_type": "display_data"
    }
   ],
   "source": [
    "#printing the the top 20 cat_3 with respect to their counts\n",
    "# most of the cat_3 falls withi the 'Pants, Tights, Leggings','Face',others \n",
    "plt.figure(figsize = (30,10))\n",
    "sns.barplot(list(train['cat_3'].value_counts()[:20].index),list(train['cat_3'].value_counts()[:20]))\n",
    "plt.show()"
   ]
  },
  {
   "cell_type": "markdown",
   "metadata": {
    "id": "3Mfj0Bsf3WeZ"
   },
   "source": [
    "**observations**\n",
    "1.form the barplot on cat_3 feature it is clear that top product is  related to womens and second one is with category not given and the third product is related to womes cosmetics which tells us that in every sub category top products are related with womens and they are using the mercari website mainly."
   ]
  },
  {
   "cell_type": "code",
   "execution_count": null,
   "metadata": {
    "id": "BlcewSEC3WeZ",
    "outputId": "b7eae217-3176-4101-9bf1-bae21b8b547c"
   },
   "outputs": [
    {
     "name": "stdout",
     "output_type": "stream",
     "text": [
      "top 5 brands with item_condition_id as 1 and price greater than 90th percetile value of prices are: ['LuLaRoe', 'M', 'Nike', 'PINK', 'Michael Kors']\n"
     ]
    }
   ],
   "source": [
    "data=train[train['item_condition_id']==1]\n",
    "data=data[data['price']>perce_90th]\n",
    "data=data[data['brand_name']!='unknown']\n",
    "print('top 5 brands with item_condition_id as 1 and price greater than 90th percetile value of prices are:',list(data['brand_name'].value_counts()[:5].index))"
   ]
  },
  {
   "cell_type": "code",
   "execution_count": null,
   "metadata": {
    "id": "mY4TT1eN3WeZ",
    "outputId": "99a606ba-8fb8-426f-97cc-9d1a4881be0b"
   },
   "outputs": [
    {
     "name": "stdout",
     "output_type": "stream",
     "text": [
      "top 5 brands with item_condition_id as 2 and price greater than 90th percetile value of prices are: ['Nike', 'Michael Kors', 'Lululemon', 'M', 'Apple']\n"
     ]
    }
   ],
   "source": [
    "data=train[train['item_condition_id']==2]\n",
    "data=data[data['price']>perce_90th]\n",
    "data=data[data['brand_name']!='unknown']\n",
    "print('top 5 brands with item_condition_id as 2 and price greater than 90th percetile value of prices are:',list(data['brand_name'].value_counts()[:5].index))"
   ]
  },
  {
   "cell_type": "code",
   "execution_count": null,
   "metadata": {
    "id": "Niijm3An3WeZ",
    "outputId": "60fa1620-e36d-4561-ce9d-e5485a510cac"
   },
   "outputs": [
    {
     "name": "stdout",
     "output_type": "stream",
     "text": [
      "top 5 brands with item_condition_id as 3 and price greater than 90th percetile value of prices are: ['Nike', 'Apple', 'Michael Kors', 'Lululemon', 'M']\n"
     ]
    }
   ],
   "source": [
    "data=train[train['item_condition_id']==3]\n",
    "data=data[data['price']>perce_90th]\n",
    "data=data[data['brand_name']!='unknown']\n",
    "print('top 5 brands with item_condition_id as 3 and price greater than 90th percetile value of prices are:',list(data['brand_name'].value_counts()[:5].index))"
   ]
  },
  {
   "cell_type": "code",
   "execution_count": null,
   "metadata": {
    "id": "m-WD9Zka3WeZ",
    "outputId": "fa24e9ba-764a-4475-9338-90313364b872"
   },
   "outputs": [
    {
     "name": "stdout",
     "output_type": "stream",
     "text": [
      "top 5 brands with item_condition_id as 4 and price greater than 90th percetile value of prices are: ['Apple', 'Louis Vuitton', 'Air Jordan', 'Nike', 'Michael Kors']\n"
     ]
    }
   ],
   "source": [
    "data=train[train['item_condition_id']==4]\n",
    "data=data[data['price']>perce_90th]\n",
    "data=data[data['brand_name']!='unknown']\n",
    "print('top 5 brands with item_condition_id as 4 and price greater than 90th percetile value of prices are:',list(data['brand_name'].value_counts()[:5].index))"
   ]
  },
  {
   "cell_type": "code",
   "execution_count": null,
   "metadata": {
    "id": "U-wNRlzm3Wea",
    "outputId": "39846a4a-0bc6-4b8a-cfa4-acb9f6624cf9"
   },
   "outputs": [
    {
     "name": "stdout",
     "output_type": "stream",
     "text": [
      "top 5 brands with item_condition_id as 5 and price greater than 90th percetile value of prices are: ['Apple', 'Samsung', 'Louis Vuitton', 'Sony', 'M']\n"
     ]
    }
   ],
   "source": [
    "data=train[train['item_condition_id']==5]\n",
    "data=data[data['price']>perce_90th]\n",
    "data=data[data['brand_name']!='unknown']\n",
    "print('top 5 brands with item_condition_id as 5 and price greater than 90th percetile value of prices are:',list(data['brand_name'].value_counts()[:5].index))"
   ]
  },
  {
   "cell_type": "markdown",
   "metadata": {
    "id": "qpDe1Nkw3Wea"
   },
   "source": [
    "**BIVARIATE ANALYSIS**"
   ]
  },
  {
   "cell_type": "code",
   "execution_count": null,
   "metadata": {
    "id": "cGnWHNUD3Wea",
    "outputId": "274c82dc-5eae-4815-fde6-66f0585c45c8"
   },
   "outputs": [
    {
     "data": {
      "image/png": "[encoded data removed]",
      "text/plain": [
       "<Figure size 576x576 with 1 Axes>"
      ]
     },
     "metadata": {
      "needs_background": "light",
      "tags": []
     },
     "output_type": "display_data"
    }
   ],
   "source": [
    "# printing the boxplot between shipping and price\n",
    "plt.figure(figsize=(8,8))\n",
    "sns.boxplot(x=train.shipping,y=train.price)\n",
    "plt.show()\n",
    "# here 50th percentie of price with shipping 0 is grater than 50th percentile with shipping value 1,we can't predict price using just 3shipping itself"
   ]
  },
  {
   "cell_type": "markdown",
   "metadata": {
    "id": "d0-_lIEq3Wea"
   },
   "source": [
    "**observations**\n",
    "1. from the box plot is is observed that when the shipping fee is paid by the buyer then price is somewhat higher when compared to price when shipping fee is paid by seller "
   ]
  },
  {
   "cell_type": "code",
   "execution_count": null,
   "metadata": {
    "id": "fBOJNvoP3Wea",
    "outputId": "36f34ab1-8288-43a8-881c-86dbb1cffc29"
   },
   "outputs": [
    {
     "data": {
      "image/png": "[encoded data removed]",
      "text/plain": [
       "<Figure size 576x576 with 1 Axes>"
      ]
     },
     "metadata": {
      "needs_background": "light",
      "tags": []
     },
     "output_type": "display_data"
    }
   ],
   "source": [
    "# plotting the box plot between price and item_condition_id\n",
    "plt.figure(figsize=(8,8))\n",
    "sns.boxplot(x=train.item_condition_id,y=train.price)\n",
    "plt.show()\n",
    "# distribution of price over the different item condition seems to be same for all 1,2,3,4 except for the item_condition_id with value 5 where its price distribution is somewhat high. "
   ]
  },
  {
   "cell_type": "markdown",
   "metadata": {
    "id": "UOPzSyQl3Wea"
   },
   "source": [
    "**observations**\n",
    "1. from the box plot the price range with the item_conditons 1,2,3,4 are almost in same range.but the the 75th percentile of product with item-condition-id 5 is a bit higher when compared to others."
   ]
  },
  {
   "cell_type": "code",
   "execution_count": null,
   "metadata": {
    "id": "dYvP54CR3Web",
    "outputId": "892a88d8-2d8d-46e0-e488-22856c7f2eec"
   },
   "outputs": [
    {
     "name": "stdout",
     "output_type": "stream",
     "text": [
      "['Women', 'Beauty', 'Kids', 'Electronics', 'Men', 'Home', 'Vintage & Collectibles', 'Other', 'Handmade', 'Sports & Outdoors', 'others']\n"
     ]
    }
   ],
   "source": [
    "print(list(train['cat_1'].value_counts()[:11].index))"
   ]
  },
  {
   "cell_type": "code",
   "execution_count": null,
   "metadata": {
    "id": "8glVfLuw3Web",
    "outputId": "0ad6d915-f98a-4584-b40c-4be29dcac606"
   },
   "outputs": [
    {
     "data": {
      "image/png": "[encoded data removed]",
      "text/plain": [
       "<Figure size 2160x720 with 1 Axes>"
      ]
     },
     "metadata": {
      "needs_background": "light",
      "tags": []
     },
     "output_type": "display_data"
    }
   ],
   "source": [
    "# finding the data points where cat_1 feature is top 11 frequently occured words in cat_1\n",
    "data1=train[train['cat_1'].isin(list(train['cat_1'].value_counts()[:11].index))]\n",
    "# printing the box plot between top 11 cat_1 features and price \n",
    "plt.figure(figsize=(30,10))\n",
    "sns.boxplot(x=data1.cat_1,y=data1.price)\n",
    "plt.show()\n",
    "# from the figure it is clear it is clear that price distribution for different category in cat_1 feature are almost overlapping "
   ]
  },
  {
   "cell_type": "markdown",
   "metadata": {
    "id": "dtyN0c9e3Web"
   },
   "source": [
    "**observations**\n",
    "1. from the box plot of top 11 categories of cat_1 feature,it is difficult to predict the price of any of the product that belongs to those category.although the first category men has highest 75th percentile prize there is lot much overlap between men and other categories. "
   ]
  },
  {
   "cell_type": "code",
   "execution_count": null,
   "metadata": {
    "id": "Oa7bO8rr3Web",
    "outputId": "6a1ce1e7-f491-4bf4-9550-56b99753aeb2"
   },
   "outputs": [
    {
     "name": "stdout",
     "output_type": "stream",
     "text": [
      "['Athletic Apparel', 'Makeup', 'Tops & Blouses', 'Shoes', 'Jewelry', 'Toys', 'Cell Phones & Accessories', 'Dresses', \"Women's Handbags\", \"Women's Accessories\"]\n"
     ]
    }
   ],
   "source": [
    "print(list(train['cat_2'].value_counts()[:10].index))"
   ]
  },
  {
   "cell_type": "code",
   "execution_count": null,
   "metadata": {
    "id": "k6k6cz-z3Wec",
    "outputId": "9f1fa7fc-91e6-4cbf-9d8c-bc5ba9d8fd17"
   },
   "outputs": [
    {
     "data": {
      "image/png": "[encoded data removed]",
      "text/plain": [
       "<Figure size 2160x720 with 1 Axes>"
      ]
     },
     "metadata": {
      "needs_background": "light",
      "tags": []
     },
     "output_type": "display_data"
    }
   ],
   "source": [
    "# finding the data points where cat_2 feature is top 10 frequently occured words in cat_2\n",
    "data1=train[train['cat_2'].isin(list(train['cat_2'].value_counts()[:10].index))]\n",
    "# printing the box plot between top 10 cat_2 features and price \n",
    "plt.figure(figsize=(30,10))\n",
    "sns.boxplot(x=data1.cat_2,y=data1.price)\n",
    "plt.show()\n",
    "# from the plot it is clear that price distribution for some cat_2 values are low and some values are high,but for the category women's handbags are pretty much higher when compared to others. "
   ]
  },
  {
   "cell_type": "markdown",
   "metadata": {
    "id": "VzRjLDcT3Wec"
   },
   "source": [
    "**observations**\n",
    "1. from the box plot of cat_2 feature, it is clear that price range of every of the category is same except with some categories like shoes and womens handbags,but predicting thr price range of those categories also somewwhat difficult because there is overlap region for them with lot many other categories."
   ]
  },
  {
   "cell_type": "code",
   "execution_count": null,
   "metadata": {
    "id": "uzp2zSFK3Wec",
    "outputId": "c1515e30-35d2-4f29-8748-7f9e9fbde76f"
   },
   "outputs": [
    {
     "name": "stdout",
     "output_type": "stream",
     "text": [
      "['Pants, Tights, Leggings', 'Face', 'Other', 'T-Shirts', 'Shoes', 'Lips', 'Games', 'Athletic', 'Eyes', 'Cases, Covers & Skins']\n"
     ]
    }
   ],
   "source": [
    "print(list(train['cat_3'].value_counts()[:10].index))"
   ]
  },
  {
   "cell_type": "code",
   "execution_count": null,
   "metadata": {
    "id": "4FKJLOpx3Wec",
    "outputId": "b89e2b3b-4790-47df-9fb0-38b01d25945b"
   },
   "outputs": [
    {
     "data": {
      "image/png": "[encoded data removed]",
      "text/plain": [
       "<Figure size 2160x720 with 1 Axes>"
      ]
     },
     "metadata": {
      "needs_background": "light",
      "tags": []
     },
     "output_type": "display_data"
    }
   ],
   "source": [
    "# finding the data points where cat_3 feature is top 10 frequently occured words in cat_3\n",
    "data1=train[train['cat_3'].isin(list(train['cat_3'].value_counts()[:10].index))]\n",
    "# printing the box plot between top 10 cat_3 features and price \n",
    "plt.figure(figsize=(30,10))\n",
    "sns.boxplot(x=data1.cat_3,y=data1.price)\n",
    "plt.show()\n",
    "# from the plot it is clear that price distribution of all the top categories are same except for two categories like athletic and pants,tights,leggins where their price disttribution is some what higher when compared to other categories "
   ]
  },
  {
   "cell_type": "markdown",
   "metadata": {
    "id": "ezO1OG7R3Wed"
   },
   "source": [
    "**observations**\n",
    "1. from the box plot of cat_3 feature, it is clear that price range of every of the category is same except with one category athletic.price range of athletic category is  higher compared to other category.we can predict the prie of these athletic category simply when compared to others."
   ]
  },
  {
   "cell_type": "code",
   "execution_count": null,
   "metadata": {
    "id": "RP-qgLic3Wed"
   },
   "outputs": [],
   "source": [
    "del data1"
   ]
  },
  {
   "cell_type": "markdown",
   "metadata": {
    "id": "g4MXKJSu3Wed"
   },
   "source": [
    "**multivariate analysis**"
   ]
  },
  {
   "cell_type": "code",
   "execution_count": null,
   "metadata": {
    "id": "B45EWu903Wed",
    "outputId": "b0670e7c-9635-4d9c-dca6-a6f1e6caef24"
   },
   "outputs": [
    {
     "data": {
      "text/plain": [
       "<Figure size 1080x1080 with 0 Axes>"
      ]
     },
     "metadata": {
      "tags": []
     },
     "output_type": "display_data"
    },
    {
     "data": {
      "image/png": "[encoded data removed]",
      "text/plain": [
       "<Figure size 410.625x360 with 6 Axes>"
      ]
     },
     "metadata": {
      "tags": []
     },
     "output_type": "display_data"
    }
   ],
   "source": [
    "plt.figure(figsize=(15,15))\n",
    "sns.set_style(\"whitegrid\");\n",
    "sns.pairplot(train, hue=\"shipping\",vars=['price','item_condition_id']);\n",
    "plt.show()"
   ]
  },
  {
   "cell_type": "markdown",
   "metadata": {
    "id": "ieC0PLrz3Wed"
   },
   "source": [
    "**observations**\n",
    "1. from the pair plot it is clear that in every small price range we have taken for every item condition there are datapoints with respect to shipping value both 0 and 1.so it is very difficult to predict the price by simply using these two features."
   ]
  },
  {
   "cell_type": "markdown",
   "metadata": {
    "id": "59XS9T1p3Wed"
   },
   "source": [
    "**adding no of words of item_description feature before preprocessing as a feature** "
   ]
  },
  {
   "cell_type": "code",
   "execution_count": null,
   "metadata": {
    "id": "uB0BziaB3Wed"
   },
   "outputs": [],
   "source": [
    "train['len']=[len(i.split()) for i in train.item_description.values]\n",
    "test['len']=[len(i.split()) for i in test.item_description.values]"
   ]
  },
  {
   "cell_type": "markdown",
   "metadata": {
    "id": "smcx5bF03Wee"
   },
   "source": [
    "**PREPROCESSIG OF TEXT DATA**"
   ]
  },
  {
   "cell_type": "code",
   "execution_count": null,
   "metadata": {
    "id": "AXd0bDkk3Wee"
   },
   "outputs": [],
   "source": [
    "from nltk.corpus import stopwords\n",
    "stopword=stopwords.words('english')"
   ]
  },
  {
   "cell_type": "code",
   "execution_count": null,
   "metadata": {
    "id": "lkaI2ry53Wee"
   },
   "outputs": [],
   "source": [
    "import re"
   ]
  },
  {
   "cell_type": "code",
   "execution_count": null,
   "metadata": {
    "id": "YmTmKWpK3Wee"
   },
   "outputs": [],
   "source": [
    "def preprocess(td):\n",
    "    td = re.sub(r\"won't\", \"will not\", td)\n",
    "    td = re.sub(r\"can\\'t\", \"can not\", td)\n",
    "    td = re.sub(r\"n\\'t\", \" not\", td)\n",
    "    td = re.sub(r\"\\'re\", \" are\", td)\n",
    "    td = re.sub(r\"\\'s\", \" is\", td)\n",
    "    td = re.sub(r\"\\'d\", \" would\", td)\n",
    "    td = re.sub(r\"\\'ll\", \" will\", td)\n",
    "    td = re.sub(r\"\\'t\", \" not\", td)\n",
    "    td = re.sub(r\"\\'ve\", \" have\", td)\n",
    "    td = re.sub(r\"\\'m\", \" am\", td)\n",
    "    td = re.sub('\\\\n',' ',td)\n",
    "    td = re.sub('\\\\\"',' ',td)\n",
    "    td = re.sub('\\\\n',' ',td)\n",
    "    td = re.sub('[^A-Za-z0-9]+', ' ',td)\n",
    "    td = ' '.join(i for i in td.split() if i.lower not in stopword)\n",
    "    td.lower()\n",
    "    return td"
   ]
  },
  {
   "cell_type": "code",
   "execution_count": null,
   "metadata": {
    "id": "Lk65pQtN3Wee"
   },
   "outputs": [],
   "source": [
    "train['item_description']=train['item_description'].apply(lambda i:preprocess(i))\n",
    "test['item_description']=test['item_description'].apply(lambda i:preprocess(i))"
   ]
  },
  {
   "cell_type": "markdown",
   "metadata": {
    "id": "8OUn5vNx3Weh"
   },
   "source": [
    "**adding no of words of item_description feature after preprocessing as a feature** "
   ]
  },
  {
   "cell_type": "code",
   "execution_count": null,
   "metadata": {
    "id": "WcgjiwPN3Weh"
   },
   "outputs": [],
   "source": [
    "train['len_af']=[len(i.split()) for i in train.item_description.values]\n",
    "test['len_af']=[len(i.split()) for i in test.item_description.values]"
   ]
  },
  {
   "cell_type": "markdown",
   "metadata": {
    "id": "TRiLBcUf3Wei"
   },
   "source": [
    "**adding difference between length of item_description feature before and after preprocessing as a feature** "
   ]
  },
  {
   "cell_type": "code",
   "execution_count": null,
   "metadata": {
    "id": "B59lCMqk3Wei"
   },
   "outputs": [],
   "source": [
    "train['len_dif']=train['len']-train['len_af']\n",
    "test['len_dif']=test['len']-test['len_af']"
   ]
  },
  {
   "cell_type": "markdown",
   "metadata": {
    "id": "DBq1dF5Q3Wei"
   },
   "source": [
    "**doing setimental analysis on item_description feature**"
   ]
  },
  {
   "cell_type": "code",
   "execution_count": null,
   "metadata": {
    "id": "092vCh-A3Wei"
   },
   "outputs": [],
   "source": [
    "sen = SentimentIntensityAnalyzer()\n",
    "neu=[]\n",
    "pos=[]\n",
    "neg=[]\n",
    "com=[]\n",
    "for i in train['item_description'].values:\n",
    "    s=sen.polarity_scores(i)\n",
    "    com.append(s['compound'])\n",
    "    pos.append(s['pos'])\n",
    "    neg.append(s['neg'])\n",
    "    neu.append(s['neu'])\n",
    "train['neg']=neg\n",
    "train['pos']=pos\n",
    "train['com']=com\n",
    "train['neu']=neu\n",
    "neu=[]\n",
    "pos=[]\n",
    "neg=[]\n",
    "com=[]\n",
    "for i in test['item_description'].values:\n",
    "    s=sen.polarity_scores(i)\n",
    "    com.append(s['compound'])\n",
    "    pos.append(s['pos'])\n",
    "    neg.append(s['neg'])\n",
    "    neu.append(s['neu'])\n",
    "test['neg']=neg\n",
    "test['pos']=pos\n",
    "test['com']=com\n",
    "test['neu']=neu"
   ]
  },
  {
   "cell_type": "code",
   "execution_count": null,
   "metadata": {
    "id": "ot3pNNUa3Wei"
   },
   "outputs": [],
   "source": [
    "del neu\n",
    "del pos\n",
    "del neg\n",
    "del com"
   ]
  },
  {
   "cell_type": "code",
   "execution_count": null,
   "metadata": {
    "id": "CMJXGeDY3Wei",
    "outputId": "eec5bdc5-974d-45b5-c927-cc59e97f51b3"
   },
   "outputs": [
    {
     "data": {
      "text/html": [
       "<div>\n",
       "<style scoped>\n",
       "    .dataframe tbody tr th:only-of-type {\n",
       "        vertical-align: middle;\n",
       "    }\n",
       "\n",
       "    .dataframe tbody tr th {\n",
       "        vertical-align: top;\n",
       "    }\n",
       "\n",
       "    .dataframe thead th {\n",
       "        text-align: right;\n",
       "    }\n",
       "</style>\n",
       "<table border=\"1\" class=\"dataframe\">\n",
       "  <thead>\n",
       "    <tr style=\"text-align: right;\">\n",
       "      <th></th>\n",
       "      <th>train_id</th>\n",
       "      <th>name</th>\n",
       "      <th>item_condition_id</th>\n",
       "      <th>category_name</th>\n",
       "      <th>brand_name</th>\n",
       "      <th>price</th>\n",
       "      <th>shipping</th>\n",
       "      <th>item_description</th>\n",
       "      <th>cat_1</th>\n",
       "      <th>cat_2</th>\n",
       "      <th>cat_3</th>\n",
       "      <th>log</th>\n",
       "      <th>len</th>\n",
       "      <th>len_af</th>\n",
       "      <th>len_dif</th>\n",
       "      <th>neg</th>\n",
       "      <th>pos</th>\n",
       "      <th>com</th>\n",
       "      <th>neu</th>\n",
       "    </tr>\n",
       "  </thead>\n",
       "  <tbody>\n",
       "    <tr>\n",
       "      <th>849853</th>\n",
       "      <td>0</td>\n",
       "      <td>MLB Cincinnati Reds T Shirt Size XL</td>\n",
       "      <td>3</td>\n",
       "      <td>Men/Tops/T-shirts</td>\n",
       "      <td>MLB</td>\n",
       "      <td>10.0</td>\n",
       "      <td>1</td>\n",
       "      <td>No description yet</td>\n",
       "      <td>Men</td>\n",
       "      <td>Tops</td>\n",
       "      <td>T-shirts</td>\n",
       "      <td>2.397895</td>\n",
       "      <td>3</td>\n",
       "      <td>3</td>\n",
       "      <td>0</td>\n",
       "      <td>0.524</td>\n",
       "      <td>0.0</td>\n",
       "      <td>-0.296</td>\n",
       "      <td>0.476</td>\n",
       "    </tr>\n",
       "  </tbody>\n",
       "</table>\n",
       "</div>"
      ],
      "text/plain": [
       "        train_id                                 name  item_condition_id  \\\n",
       "849853         0  MLB Cincinnati Reds T Shirt Size XL                  3   \n",
       "\n",
       "            category_name brand_name  price  shipping    item_description  \\\n",
       "849853  Men/Tops/T-shirts        MLB   10.0         1  No description yet   \n",
       "\n",
       "       cat_1 cat_2     cat_3       log  len  len_af  len_dif    neg  pos  \\\n",
       "849853   Men  Tops  T-shirts  2.397895    3       3        0  0.524  0.0   \n",
       "\n",
       "          com    neu  \n",
       "849853 -0.296  0.476  "
      ]
     },
     "execution_count": 116,
     "metadata": {
      "tags": []
     },
     "output_type": "execute_result"
    }
   ],
   "source": [
    "train.head(1)"
   ]
  },
  {
   "cell_type": "code",
   "execution_count": null,
   "metadata": {
    "id": "p1iXJ9nA3Wej",
    "outputId": "10e7fc67-659a-4dad-e4a4-4251aa08156e"
   },
   "outputs": [
    {
     "data": {
      "text/html": [
       "<div>\n",
       "<style scoped>\n",
       "    .dataframe tbody tr th:only-of-type {\n",
       "        vertical-align: middle;\n",
       "    }\n",
       "\n",
       "    .dataframe tbody tr th {\n",
       "        vertical-align: top;\n",
       "    }\n",
       "\n",
       "    .dataframe thead th {\n",
       "        text-align: right;\n",
       "    }\n",
       "</style>\n",
       "<table border=\"1\" class=\"dataframe\">\n",
       "  <thead>\n",
       "    <tr style=\"text-align: right;\">\n",
       "      <th></th>\n",
       "      <th>test_id</th>\n",
       "      <th>name</th>\n",
       "      <th>item_condition_id</th>\n",
       "      <th>category_name</th>\n",
       "      <th>brand_name</th>\n",
       "      <th>shipping</th>\n",
       "      <th>item_description</th>\n",
       "      <th>cat_1</th>\n",
       "      <th>cat_2</th>\n",
       "      <th>cat_3</th>\n",
       "      <th>len</th>\n",
       "      <th>len_af</th>\n",
       "      <th>len_dif</th>\n",
       "      <th>neg</th>\n",
       "      <th>pos</th>\n",
       "      <th>com</th>\n",
       "      <th>neu</th>\n",
       "    </tr>\n",
       "  </thead>\n",
       "  <tbody>\n",
       "    <tr>\n",
       "      <th>1984235</th>\n",
       "      <td>0</td>\n",
       "      <td>Breast cancer \"I fight like a girl\" ring</td>\n",
       "      <td>1</td>\n",
       "      <td>Women/Jewelry/Rings</td>\n",
       "      <td>unknown</td>\n",
       "      <td>1</td>\n",
       "      <td>Size 7</td>\n",
       "      <td>Women</td>\n",
       "      <td>Jewelry</td>\n",
       "      <td>Rings</td>\n",
       "      <td>2</td>\n",
       "      <td>2</td>\n",
       "      <td>0</td>\n",
       "      <td>0.0</td>\n",
       "      <td>0.0</td>\n",
       "      <td>0.0</td>\n",
       "      <td>1.0</td>\n",
       "    </tr>\n",
       "  </tbody>\n",
       "</table>\n",
       "</div>"
      ],
      "text/plain": [
       "         test_id                                      name  item_condition_id  \\\n",
       "1984235        0  Breast cancer \"I fight like a girl\" ring                  1   \n",
       "\n",
       "               category_name brand_name  shipping item_description  cat_1  \\\n",
       "1984235  Women/Jewelry/Rings    unknown         1           Size 7  Women   \n",
       "\n",
       "           cat_2  cat_3  len  len_af  len_dif  neg  pos  com  neu  \n",
       "1984235  Jewelry  Rings    2       2        0  0.0  0.0  0.0  1.0  "
      ]
     },
     "execution_count": 118,
     "metadata": {
      "tags": []
     },
     "output_type": "execute_result"
    }
   ],
   "source": [
    "test.head(1)"
   ]
  },
  {
   "cell_type": "code",
   "execution_count": null,
   "metadata": {
    "id": "L0kPWVYR3Wej"
   },
   "outputs": [],
   "source": [
    "train.to_csv('train_preprocessing.csv',index=False)\n",
    "test.to_csv('test_preprocessing.csv',index=False)"
   ]
  },
  {
   "cell_type": "code",
   "execution_count": 3,
   "metadata": {
    "colab": {
     "base_uri": "https://localhost:8080/"
    },
    "id": "C2XKa4nF3Wej",
    "outputId": "e90f476c-3eca-4b33-c0e9-dd0f5877a226"
   },
   "outputs": [
    {
     "name": "stdout",
     "output_type": "stream",
     "text": [
      "(1476089, 19)\n",
      "(3460725, 17)\n"
     ]
    }
   ],
   "source": [
    "train=pd.read_csv('train_preprocessing.csv')\n",
    "test=pd.read_csv('test_preprocessing.csv')\n",
    "print(train.shape)\n",
    "print(test.shape)"
   ]
  },
  {
   "cell_type": "code",
   "execution_count": 4,
   "metadata": {
    "id": "L7kX1sYp3Wej"
   },
   "outputs": [],
   "source": [
    "train.item_description.fillna(value='desription not given',inplace=True)\n",
    "test.item_description.fillna(value='desription not given',inplace=True)"
   ]
  },
  {
   "cell_type": "code",
   "execution_count": 5,
   "metadata": {
    "id": "e6JkmEVF3Wej"
   },
   "outputs": [],
   "source": [
    "test_id=test['test_id'].values"
   ]
  },
  {
   "cell_type": "code",
   "execution_count": 6,
   "metadata": {
    "id": "sMrIiNgtovUO"
   },
   "outputs": [],
   "source": [
    "y=train['log'].values\n",
    "X=train.drop(['price','category_name','log','train_id'],axis=1)"
   ]
  },
  {
   "cell_type": "code",
   "execution_count": 7,
   "metadata": {
    "id": "jhOeCYqUoXpP"
   },
   "outputs": [],
   "source": [
    "#train and test splitting of data\n",
    "from sklearn.model_selection import train_test_split\n",
    "X_train,X_test,y_train,y_test=train_test_split(X,y,test_size=0.15,random_state=42)"
   ]
  },
  {
   "cell_type": "markdown",
   "metadata": {},
   "source": [
    "**HANDLING CATEGORICAL FEATURES**"
   ]
  },
  {
   "cell_type": "code",
   "execution_count": 7,
   "metadata": {
    "colab": {
     "base_uri": "https://localhost:8080/"
    },
    "id": "R4QEwNtClEbv",
    "outputId": "97845193-c3bf-4383-9239-59c5905e7b23"
   },
   "outputs": [
    {
     "name": "stdout",
     "output_type": "stream",
     "text": [
      "(1254675, 16301)\n",
      "(221414, 16301)\n",
      "(3460725, 16301)\n"
     ]
    }
   ],
   "source": [
    "from sklearn.preprocessing import OneHotEncoder\n",
    "vectorizer=OneHotEncoder(sparse=True, handle_unknown='ignore')\n",
    "vectorizer.fit(X_train['brand_name'].values.reshape(-1,1))\n",
    "X_train_brand=vectorizer.transform(X_train['brand_name'].values.reshape(-1,1))\n",
    "X_test_brand=vectorizer.transform(X_test['brand_name'].values.reshape(-1,1))\n",
    "test_brand=vectorizer.transform(test['brand_name'].values.reshape(-1,1))\n",
    "\n",
    "vectorizer=OneHotEncoder(sparse=True, handle_unknown='ignore')\n",
    "vectorizer.fit(X_train['cat_1'].values.reshape(-1,1))\n",
    "X_train_cat_1=vectorizer.transform(X_train['cat_1'].values.reshape(-1,1))\n",
    "X_test_cat_1=vectorizer.transform(X_test['cat_1'].values.reshape(-1,1))\n",
    "test_cat_1=vectorizer.transform(test['cat_1'].values.reshape(-1,1))\n",
    "\n",
    "vectorizer=OneHotEncoder(sparse=True, handle_unknown='ignore')\n",
    "vectorizer.fit(X_train['cat_2'].values.reshape(-1,1))\n",
    "X_train_cat_2=vectorizer.transform(X_train['cat_2'].values.reshape(-1,1))\n",
    "X_test_cat_2=vectorizer.transform(X_test['cat_2'].values.reshape(-1,1))\n",
    "test_cat_2=vectorizer.transform(test['cat_2'].values.reshape(-1,1))\n",
    "\n",
    "\n",
    "vectorizer=OneHotEncoder(sparse=True, handle_unknown='ignore')\n",
    "vectorizer.fit(X_train['cat_3'].values.reshape(-1,1))\n",
    "X_train_cat_3=vectorizer.transform(X_train['cat_3'].values.reshape(-1,1))\n",
    "X_test_cat_3=vectorizer.transform(X_test['cat_3'].values.reshape(-1,1))\n",
    "test_cat_3=vectorizer.transform(test['cat_3'].values.reshape(-1,1))\n",
    "\n",
    "from sklearn.feature_extraction.text import CountVectorizer\n",
    "vectorizer=CountVectorizer(min_df=10)\n",
    "vectorizer.fit(X_train['name'])\n",
    "X_train_name=vectorizer.transform(X_train['name'])\n",
    "X_test_name=vectorizer.transform(X_test['name'])\n",
    "test_name=vectorizer.transform(test['name'])\n",
    "\n",
    "print(X_train_name.shape)\n",
    "print(X_test_name.shape)\n",
    "print(test_name.shape)"
   ]
  },
  {
   "cell_type": "markdown",
   "metadata": {},
   "source": [
    "**HANDLING NUMERICAL FEATURES**"
   ]
  },
  {
   "cell_type": "code",
   "execution_count": 8,
   "metadata": {
    "id": "AL65xHiE3Wek"
   },
   "outputs": [],
   "source": [
    "from sklearn.preprocessing import Normalizer\n",
    "normalizer=Normalizer()\n",
    "normalizer.fit(X_train['com'].values.reshape(-1,1))\n",
    "X_train_compound=normalizer.transform(X_train['com'].values.reshape(-1,1))\n",
    "X_test_compound=normalizer.transform(X_test['com'].values.reshape(-1,1))\n",
    "test_compound=normalizer.transform(test['com'].values.reshape(-1,1))\n",
    "\n",
    "\n",
    "normalizer=Normalizer()\n",
    "normalizer.fit(X_train['neg'].values.reshape(-1,1))\n",
    "X_train_neg=normalizer.transform(X_train['neg'].values.reshape(-1,1))\n",
    "X_test_neg=normalizer.transform(X_test['neg'].values.reshape(-1,1))\n",
    "test_neg=normalizer.transform(test['neg'].values.reshape(-1,1))\n",
    "\n",
    "\n",
    "normalizer=Normalizer()\n",
    "normalizer.fit(X_train['pos'].values.reshape(-1,1))\n",
    "X_train_pos=normalizer.transform(X_train['pos'].values.reshape(-1,1))\n",
    "X_test_pos=normalizer.transform(X_test['pos'].values.reshape(-1,1))\n",
    "test_pos=normalizer.transform(test['pos'].values.reshape(-1,1))\n",
    "\n",
    "\n",
    "normalizer=Normalizer()\n",
    "normalizer.fit(X_train['neu'].values.reshape(-1,1))\n",
    "X_train_neu=normalizer.transform(X_train['neu'].values.reshape(-1,1))\n",
    "X_test_neu=normalizer.transform(X_test['neu'].values.reshape(-1,1))\n",
    "test_neu=normalizer.transform(test['neu'].values.reshape(-1,1))\n",
    "\n",
    "\n",
    "normalizer=Normalizer()\n",
    "normalizer.fit(X_train['len'].values.reshape(-1,1))\n",
    "X_train_len=normalizer.transform(X_train['len'].values.reshape(-1,1))\n",
    "X_test_len=normalizer.transform(X_test['len'].values.reshape(-1,1))\n",
    "test_len=normalizer.transform(test['len'].values.reshape(-1,1))\n",
    "\n",
    "\n",
    "normalizer=Normalizer()\n",
    "normalizer.fit(X_train['len_af'].values.reshape(-1,1))\n",
    "X_train_len_af=normalizer.transform(X_train['len_af'].values.reshape(-1,1))\n",
    "X_test_len_af=normalizer.transform(X_test['len_af'].values.reshape(-1,1))\n",
    "test_len_af=normalizer.transform(test['len_af'].values.reshape(-1,1))\n",
    "\n",
    "\n",
    "normalizer=Normalizer()\n",
    "normalizer.fit(X_train['len_dif'].values.reshape(-1,1))\n",
    "X_train_len_dif=normalizer.transform(X_train['len_dif'].values.reshape(-1,1))\n",
    "X_test_len_dif=normalizer.transform(X_test['len_dif'].values.reshape(-1,1))\n",
    "test_len_dif=normalizer.transform(test['len_dif'].values.reshape(-1,1))"
   ]
  },
  {
   "cell_type": "markdown",
   "metadata": {},
   "source": [
    "**VECTORIZING ITEM_DESCRIPTION**"
   ]
  },
  {
   "cell_type": "code",
   "execution_count": 10,
   "metadata": {
    "id": "Es9q6_773Wek"
   },
   "outputs": [],
   "source": [
    "from sklearn.feature_extraction.text import TfidfVectorizer\n",
    "vectorizer = TfidfVectorizer(ngram_range=(1,2), min_df=5,max_features=5000)\n",
    "vectorizer.fit(X_train['item_description'].values)\n",
    "X_train_des=vectorizer.transform(X_train['item_description'].values)\n",
    "X_test_des=vectorizer.transform(X_test['item_description'].values)\n",
    "test_des=vectorizer.transform(test['item_description'].values)"
   ]
  },
  {
   "cell_type": "markdown",
   "metadata": {},
   "source": [
    "**VECTORIZING ORDINAL FEATURES**"
   ]
  },
  {
   "cell_type": "code",
   "execution_count": 9,
   "metadata": {
    "id": "QA03v8Kw1qIM"
   },
   "outputs": [],
   "source": [
    "X_train_ship=X_train['shipping'].values.reshape(-1,1)\n",
    "X_test_ship=X_test['shipping'].values.reshape(-1,1)\n",
    "test_ship=test['shipping'].values.reshape(-1,1)\n",
    "\n",
    "\n",
    "X_train_cond=X_train['item_condition_id'].values.reshape(-1,1)\n",
    "X_test_cond=X_test['item_condition_id'].values.reshape(-1,1)\n",
    "test_cond=test['item_condition_id'].values.reshape(-1,1)\n"
   ]
  },
  {
   "cell_type": "markdown",
   "metadata": {},
   "source": [
    "**COMBINING ALL FEATURES**"
   ]
  },
  {
   "cell_type": "code",
   "execution_count": 12,
   "metadata": {
    "id": "lDwncqZF1ChX"
   },
   "outputs": [],
   "source": [
    "from scipy.sparse import hstack\n",
    "X_train_features=hstack((X_train_brand,X_train_cat_1,X_train_cat_2,X_train_cat_3,X_train_ship,X_train_cond,X_train_des,X_train_name,X_train_compound,X_train_neg,X_train_pos,X_train_neu,X_train_len,X_train_len_af,X_train_len_dif)).tocsr()\n",
    "X_test_features=hstack((X_test_brand,X_test_cat_1,X_test_cat_2,X_test_cat_3,X_test_ship,X_test_cond,X_test_des,X_test_name,X_test_compound,X_test_neg,X_test_pos,X_test_neu,X_test_len,X_test_len_af,X_test_len_dif)).tocsr()\n",
    "test_features=hstack((test_brand,test_cat_1,test_cat_2,test_cat_3,test_ship,test_cond,test_des,test_name,test_compound,test_neg,test_pos,test_neu,test_len,test_len_af,test_len_dif)).tocsr()"
   ]
  },
  {
   "cell_type": "markdown",
   "metadata": {},
   "source": [
    "**APPLYING LINEAR REGRESSIONS**"
   ]
  },
  {
   "cell_type": "code",
   "execution_count": null,
   "metadata": {
    "id": "OZcxBygj1QVh",
    "outputId": "e534e419-f97e-4c4e-f28a-93c552e7e799"
   },
   "outputs": [
    {
     "name": "stdout",
     "output_type": "stream",
     "text": [
      "Fitting 5 folds for each of 10 candidates, totalling 50 fits\n",
      "CPU times: user 9.23 s, sys: 1.36 s, total: 10.6 s\n",
      "Wall time: 1min 5s\n"
     ]
    },
    {
     "data": {
      "text/plain": [
       "RandomizedSearchCV(estimator=SGDRegressor(), n_jobs=-1,\n",
       "                   param_distributions={'alpha': [1e-15, 1e-14, 1e-13, 1e-12,\n",
       "                                                  1e-11, 1e-10, 1e-09, 1e-08,\n",
       "                                                  1e-05, 0.0001, 0.001, 0.01,\n",
       "                                                  0.1, 0, 1],\n",
       "                                        'max_iter': [100, 200, 300, 400, 500]},\n",
       "                   verbose=10)"
      ]
     },
     "execution_count": 44,
     "metadata": {
      "tags": []
     },
     "output_type": "execute_result"
    }
   ],
   "source": [
    "%%time\n",
    "from sklearn.linear_model import SGDRegressor\n",
    "sgd=SGDRegressor(penalty='l2',loss='squared_loss',fit_intercept=True)\n",
    "from sklearn.model_selection import RandomizedSearchCV\n",
    "params={'alpha':[1e-15,1e-14,1e-13,1e-12,1e-11,1e-10,1e-09,0.00000001,0.00001,0.0001,0.001,0.01,0.1,0,1],'max_iter':[100,200,300,400,500]}\n",
    "rs=RandomizedSearchCV(sgd,param_distributions=params,n_jobs=-1,verbose=10)\n",
    "rs.fit(X_train_features,y_train)"
   ]
  },
  {
   "cell_type": "code",
   "execution_count": null,
   "metadata": {
    "id": "vIsbU3kk3Wel",
    "outputId": "0b3b3143-90b7-4968-c014-57b67d12237e"
   },
   "outputs": [
    {
     "data": {
      "text/plain": [
       "{'max_iter': 100, 'alpha': 1e-11}"
      ]
     },
     "execution_count": 45,
     "metadata": {
      "tags": []
     },
     "output_type": "execute_result"
    }
   ],
   "source": [
    "rs.best_params_"
   ]
  },
  {
   "cell_type": "code",
   "execution_count": 14,
   "metadata": {
    "id": "spd3Ee7S3Wel",
    "outputId": "c5093d7c-70be-4650-bd1d-6fdd0f76edf5"
   },
   "outputs": [
    {
     "name": "stdout",
     "output_type": "stream",
     "text": [
      "CPU times: user 7.88 s, sys: 456 ms, total: 8.34 s\n",
      "Wall time: 7.52 s\n"
     ]
    },
    {
     "data": {
      "text/plain": [
       "SGDRegressor(alpha=1e-11, max_iter=100)"
      ]
     },
     "execution_count": 14,
     "metadata": {},
     "output_type": "execute_result"
    }
   ],
   "source": [
    "%%time\n",
    "from sklearn.linear_model import SGDRegressor\n",
    "sgd=SGDRegressor(penalty='l2',loss='squared_loss',fit_intercept=True,max_iter=100,alpha=1e-11)\n",
    "sgd.fit(X_train_features,y_train)"
   ]
  },
  {
   "cell_type": "code",
   "execution_count": 15,
   "metadata": {
    "id": "UhHe5mWR3Wel"
   },
   "outputs": [],
   "source": [
    "X_train_pred=sgd.predict(X_train_features)\n",
    "X_test_pred=sgd.predict(X_test_features)\n",
    "test_pred=sgd.predict(test_features)"
   ]
  },
  {
   "cell_type": "code",
   "execution_count": 16,
   "metadata": {
    "id": "ceTCC-423Wel"
   },
   "outputs": [
    {
     "name": "stdout",
     "output_type": "stream",
     "text": [
      "0.4828123109134637\n",
      "0.48574153713410284\n"
     ]
    }
   ],
   "source": [
    "rmsle_train=math.sqrt(mean_squared_error(y_train,X_train_pred))\n",
    "rmsle_test=math.sqrt(mean_squared_error(y_test,X_test_pred))\n",
    "print(rmsle_train)\n",
    "print(rmsle_test)"
   ]
  },
  {
   "cell_type": "code",
   "execution_count": 17,
   "metadata": {
    "id": "2a9msQRy3Wem",
    "outputId": "70195b73-43b3-4bda-9628-fe3f9a44f71a"
   },
   "outputs": [],
   "source": [
    "test_pred=np.exp(test_pred)\n",
    "submission=pd.DataFrame()\n",
    "submission['test_id']=test_id\n",
    "submission['price']=test_pred\n",
    "submission.to_csv('submission_sgd.csv',index=False)"
   ]
  },
  {
   "cell_type": "code",
   "execution_count": 19,
   "metadata": {},
   "outputs": [
    {
     "data": {
      "image/png": "[encoded data removed]",
      "text/plain": [
       "<IPython.core.display.Image object>"
      ]
     },
     "execution_count": 19,
     "metadata": {},
     "output_type": "execute_result"
    }
   ],
   "source": [
    "from IPython.display import Image\n",
    "Image(\"Capture_sgd.PNG\")"
   ]
  },
  {
   "cell_type": "markdown",
   "metadata": {},
   "source": [
    "**APPLYING LGBM REGRESSOR**"
   ]
  },
  {
   "cell_type": "code",
   "execution_count": null,
   "metadata": {
    "id": "420dct0o3Wem",
    "outputId": "79dfdc20-3260-4f9b-dbcb-b6fd883d136b"
   },
   "outputs": [
    {
     "name": "stdout",
     "output_type": "stream",
     "text": [
      "CPU times: user 26min 57s, sys: 3.46 s, total: 27min\n",
      "Wall time: 1h 26min 33s\n"
     ]
    },
    {
     "data": {
      "text/plain": [
       "RandomizedSearchCV(cv=3, estimator=LGBMRegressor(), n_jobs=-1,\n",
       "                   param_distributions={'boosting_type': ['gbdt'],\n",
       "                                        'learning_rate': [0.1, 0.2, 0.3, 0.4,\n",
       "                                                          0.5],\n",
       "                                        'max_depth': [2, 3, 4, 5, 6, 7, 8],\n",
       "                                        'n_estimators': [100, 150, 200, 250,\n",
       "                                                         300, 400, 500],\n",
       "                                        'num_leaves': [20, 30, 63, 80, 100,\n",
       "                                                       120]})"
      ]
     },
     "execution_count": 51,
     "metadata": {
      "tags": []
     },
     "output_type": "execute_result"
    }
   ],
   "source": [
    "%%time\n",
    "from lightgbm import LGBMRegressor\n",
    "params = {\n",
    "    'learning_rate': [ 0.1,0.2,0.3,0.4,0.5],\n",
    "    'n_estimators': [100,150, 200,250,300,400,500],\n",
    "    'num_leaves': [20,30,63,80,100,120],\n",
    "    'boosting_type' : ['gbdt'],\n",
    "    'max_depth' : [2,3,4,5,6,7,8]\n",
    "}\n",
    "lgb=LGBMRegressor()\n",
    "rs=RandomizedSearchCV(lgb,param_distributions=params,n_jobs=-1,cv=3)\n",
    "rs.fit(X_train_features,y_train)"
   ]
  },
  {
   "cell_type": "code",
   "execution_count": null,
   "metadata": {
    "id": "HckIOIEs3Wem",
    "outputId": "8c474fb7-adb5-4881-8fdb-68591360ed21"
   },
   "outputs": [
    {
     "data": {
      "text/plain": [
       "{'num_leaves': 100,\n",
       " 'n_estimators': 300,\n",
       " 'max_depth': 5,\n",
       " 'learning_rate': 0.5,\n",
       " 'boosting_type': 'gbdt'}"
      ]
     },
     "execution_count": 52,
     "metadata": {
      "tags": []
     },
     "output_type": "execute_result"
    }
   ],
   "source": [
    "rs.best_params_"
   ]
  },
  {
   "cell_type": "code",
   "execution_count": 30,
   "metadata": {
    "id": "QIi2OyfW3Wem",
    "outputId": "af1075f1-0e85-4e72-ad39-1af35b01e309"
   },
   "outputs": [
    {
     "name": "stdout",
     "output_type": "stream",
     "text": [
      "CPU times: user 26min 22s, sys: 704 ms, total: 26min 23s\n",
      "Wall time: 3min 24s\n"
     ]
    },
    {
     "data": {
      "text/plain": [
       "LGBMRegressor(learning_rate=0.5, max_depth=9, n_estimators=300, num_leaves=100)"
      ]
     },
     "execution_count": 30,
     "metadata": {},
     "output_type": "execute_result"
    }
   ],
   "source": [
    "%%time\n",
    "from lightgbm import LGBMRegressor\n",
    "lgb=LGBMRegressor(num_leaves=100,n_estimators=300,max_depth=9,learning_rate=0.5,boosting_type='gbdt')\n",
    "lgb.fit(X_train_features,y_train)"
   ]
  },
  {
   "cell_type": "code",
   "execution_count": 31,
   "metadata": {
    "id": "e0JHLnUC3Wem",
    "outputId": "844760c8-7c83-49c6-9e82-a64e9725557f"
   },
   "outputs": [
    {
     "name": "stdout",
     "output_type": "stream",
     "text": [
      "0.43781315057888137\n",
      "0.46171564548071864\n"
     ]
    }
   ],
   "source": [
    "X_train_pred=lgb.predict(X_train_features)\n",
    "X_test_pred=lgb.predict(X_test_features)\n",
    "test_pred=lgb.predict(test_features)\n",
    "rmsle_train=math.sqrt(mean_squared_error(y_train,X_train_pred))\n",
    "rmsle_test=math.sqrt(mean_squared_error(y_test,X_test_pred))\n",
    "print(rmsle_train)\n",
    "print(rmsle_test)"
   ]
  },
  {
   "cell_type": "code",
   "execution_count": 32,
   "metadata": {},
   "outputs": [],
   "source": [
    "test_pred=np.exp(test_pred)\n",
    "submission=pd.DataFrame()\n",
    "submission['test_id']=test_id\n",
    "submission['price']=test_pred\n",
    "submission.to_csv('submission_lgb.csv',index=False)"
   ]
  },
  {
   "cell_type": "code",
   "execution_count": 33,
   "metadata": {},
   "outputs": [
    {
     "data": {
      "image/png": "[encoded data removed]",
      "text/plain": [
       "<IPython.core.display.Image object>"
      ]
     },
     "execution_count": 33,
     "metadata": {},
     "output_type": "execute_result"
    }
   ],
   "source": [
    "from IPython.display import Image\n",
    "Image(\"Capture_lgb.PNG\")"
   ]
  },
  {
   "cell_type": "markdown",
   "metadata": {},
   "source": [
    "**APPLYING RANDOM FOREST REGRESSOR**"
   ]
  },
  {
   "cell_type": "code",
   "execution_count": null,
   "metadata": {
    "id": "oI8QNMkJ3Wem",
    "outputId": "173ede32-1da6-44ce-8624-077d59f79bc0"
   },
   "outputs": [
    {
     "name": "stdout",
     "output_type": "stream",
     "text": [
      "CPU times: user 8h 14min, sys: 2.05 s, total: 8h 14min 2s\n",
      "Wall time: 18h 40min 41s\n"
     ]
    },
    {
     "data": {
      "text/plain": [
       "RandomizedSearchCV(cv=3, estimator=RandomForestRegressor(), n_jobs=-1,\n",
       "                   param_distributions={'max_depth': [2, 3, 4, 5, 6, 7, 8],\n",
       "                                        'n_estimators': [100, 200, 300, 400,\n",
       "                                                         500]})"
      ]
     },
     "execution_count": 67,
     "metadata": {
      "tags": []
     },
     "output_type": "execute_result"
    }
   ],
   "source": [
    "%%time\n",
    "from sklearn.ensemble import RandomForestRegressor\n",
    "from sklearn.model_selection import RandomizedSearchCV\n",
    "params = {\n",
    "    'n_estimators': [100,200,300,400,500],\n",
    "    'max_depth' : [2,3,4,5,6,7,8]\n",
    "}\n",
    "rfr=RandomForestRegressor()\n",
    "rs=RandomizedSearchCV(rfr,param_distributions=params,n_jobs=-1,cv=3)\n",
    "rs.fit(X_train_features,y_train)"
   ]
  },
  {
   "cell_type": "code",
   "execution_count": null,
   "metadata": {
    "id": "N3cBGXuf3Wen",
    "outputId": "3928aaa5-64e6-4b64-e67f-a5f5b7d92151"
   },
   "outputs": [
    {
     "data": {
      "text/plain": [
       "{'n_estimators': 300, 'max_depth': 7}"
      ]
     },
     "execution_count": 68,
     "metadata": {
      "tags": []
     },
     "output_type": "execute_result"
    }
   ],
   "source": [
    "rs.best_params_"
   ]
  },
  {
   "cell_type": "code",
   "execution_count": 22,
   "metadata": {
    "id": "u1dtuA593Wen",
    "outputId": "02507412-6761-4d19-e998-96417a236c90"
   },
   "outputs": [
    {
     "name": "stdout",
     "output_type": "stream",
     "text": [
      "CPU times: user 4h 3min 51s, sys: 541 ms, total: 4h 3min 51s\n",
      "Wall time: 4h 3min 54s\n"
     ]
    },
    {
     "data": {
      "text/plain": [
       "RandomForestRegressor(max_depth=7, n_estimators=300)"
      ]
     },
     "execution_count": 22,
     "metadata": {},
     "output_type": "execute_result"
    }
   ],
   "source": [
    "%%time\n",
    "from sklearn.ensemble import RandomForestRegressor\n",
    "from sklearn.model_selection import RandomizedSearchCV\n",
    "rfr=RandomForestRegressor(min_samples_split=2,max_depth=7,n_estimators=300)\n",
    "rfr.fit(X_train_features,y_train)\n"
   ]
  },
  {
   "cell_type": "code",
   "execution_count": 23,
   "metadata": {
    "id": "WubLMQqQ3Wen",
    "outputId": "ae9c40a4-6817-4104-e5f1-f8ab8e568a82"
   },
   "outputs": [
    {
     "name": "stdout",
     "output_type": "stream",
     "text": [
      "0.6419817688677545\n",
      "0.6441039797986526\n"
     ]
    }
   ],
   "source": [
    "X_train_pred=rfr.predict(X_train_features)\n",
    "X_test_pred=rfr.predict(X_test_features)\n",
    "test_pred=rfr.predict(test_features)\n",
    "rmsle_train=math.sqrt(mean_squared_error(y_train,X_train_pred))\n",
    "rmsle_test=math.sqrt(mean_squared_error(y_test,X_test_pred))\n",
    "print(rmsle_train)\n",
    "print(rmsle_test)"
   ]
  },
  {
   "cell_type": "code",
   "execution_count": 24,
   "metadata": {},
   "outputs": [],
   "source": [
    "test_pred=np.exp(test_pred)\n",
    "submission=pd.DataFrame()\n",
    "submission['test_id']=test_id\n",
    "submission['price']=test_pred\n",
    "submission.to_csv('submission_rfr.csv',index=False)"
   ]
  },
  {
   "cell_type": "code",
   "execution_count": 25,
   "metadata": {},
   "outputs": [
    {
     "data": {
      "image/png": "[encoded data removed]",
      "text/plain": [
       "<IPython.core.display.Image object>"
      ]
     },
     "execution_count": 25,
     "metadata": {},
     "output_type": "execute_result"
    }
   ],
   "source": [
    "from IPython.display import Image\n",
    "Image(\"Capture_rfr.PNG\")"
   ]
  },
  {
   "cell_type": "markdown",
   "metadata": {},
   "source": [
    "**APPLYING RIDGE REGRESSION**"
   ]
  },
  {
   "cell_type": "code",
   "execution_count": 13,
   "metadata": {
    "colab": {
     "base_uri": "https://localhost:8080/"
    },
    "id": "Ydc3G0_h3Weo",
    "outputId": "99d1d028-07ec-49dd-fd85-47cd8f639305"
   },
   "outputs": [
    {
     "name": "stdout",
     "output_type": "stream",
     "text": [
      "CPU times: user 6min 55s, sys: 6min 30s, total: 13min 26s\n",
      "Wall time: 12min 42s\n"
     ]
    },
    {
     "data": {
      "text/plain": [
       "RandomizedSearchCV(estimator=Ridge(), n_jobs=-1,\n",
       "                   param_distributions={'alpha': [1e-15, 1e-14, 1e-13, 1e-12,\n",
       "                                                  1e-11, 1e-10, 1e-09, 1e-08,\n",
       "                                                  1e-05, 0.0001, 0.001, 0.01,\n",
       "                                                  0.1, 0, 1]})"
      ]
     },
     "execution_count": 13,
     "metadata": {},
     "output_type": "execute_result"
    }
   ],
   "source": [
    "%%time\n",
    "from sklearn.linear_model import Ridge\n",
    "from sklearn.model_selection import RandomizedSearchCV\n",
    "params = {\n",
    "    'alpha':[1e-15,1e-14,1e-13,1e-12,1e-11,1e-10,1e-09,0.00000001,0.00001,0.0001,0.001,0.01,0.1,0,1]\n",
    "}\n",
    "rcv=Ridge()\n",
    "rs=RandomizedSearchCV(rcv,param_distributions=params,n_jobs=-1)\n",
    "rs.fit(X_train_features,y_train)"
   ]
  },
  {
   "cell_type": "code",
   "execution_count": 14,
   "metadata": {
    "colab": {
     "base_uri": "https://localhost:8080/"
    },
    "id": "50jymMtM3Weo",
    "outputId": "e900eb83-5e5b-480c-e8f2-a551848f260c"
   },
   "outputs": [
    {
     "data": {
      "text/plain": [
       "{'alpha': 0.1}"
      ]
     },
     "execution_count": 14,
     "metadata": {},
     "output_type": "execute_result"
    }
   ],
   "source": [
    "rs.best_params_"
   ]
  },
  {
   "cell_type": "code",
   "execution_count": 34,
   "metadata": {
    "colab": {
     "base_uri": "https://localhost:8080/",
     "height": 328
    },
    "id": "uTcY97yn3Weo",
    "outputId": "95761c29-a330-49ea-e671-358184e85658"
   },
   "outputs": [
    {
     "name": "stdout",
     "output_type": "stream",
     "text": [
      "CPU times: user 6min 46s, sys: 6min 38s, total: 13min 25s\n",
      "Wall time: 1min 54s\n"
     ]
    },
    {
     "data": {
      "text/plain": [
       "Ridge(alpha=0.1)"
      ]
     },
     "execution_count": 34,
     "metadata": {},
     "output_type": "execute_result"
    }
   ],
   "source": [
    "%%time\n",
    "from sklearn.linear_model import Ridge\n",
    "rcv=Ridge(alpha=0.1)\n",
    "rcv.fit(X_train_features,y_train)"
   ]
  },
  {
   "cell_type": "code",
   "execution_count": 35,
   "metadata": {
    "colab": {
     "base_uri": "https://localhost:8080/"
    },
    "id": "shP1OtWf3Weo",
    "outputId": "efe9a092-a886-44ad-80e0-a44d8258aaa8"
   },
   "outputs": [
    {
     "name": "stdout",
     "output_type": "stream",
     "text": [
      "0.45620080134056573\n",
      "0.46797255631045837\n"
     ]
    }
   ],
   "source": [
    "X_train_pred=rcv.predict(X_train_features)\n",
    "X_test_pred=rcv.predict(X_test_features)\n",
    "test_pred=rcv.predict(test_features)\n",
    "rmsle_train=math.sqrt(mean_squared_error(y_train,X_train_pred))\n",
    "rmsle_test=math.sqrt(mean_squared_error(y_test,X_test_pred))\n",
    "print(rmsle_train)\n",
    "print(rmsle_test)"
   ]
  },
  {
   "cell_type": "code",
   "execution_count": 36,
   "metadata": {},
   "outputs": [],
   "source": [
    "test_pred=np.exp(test_pred)\n",
    "submission=pd.DataFrame()\n",
    "submission['test_id']=test_id\n",
    "submission['price']=test_pred\n",
    "submission.to_csv('submission_rcv.csv',index=False)"
   ]
  },
  {
   "cell_type": "code",
   "execution_count": 37,
   "metadata": {},
   "outputs": [
    {
     "data": {
      "image/png": "[encoded data removed]",
      "text/plain": [
       "<IPython.core.display.Image object>"
      ]
     },
     "execution_count": 37,
     "metadata": {},
     "output_type": "execute_result"
    }
   ],
   "source": [
    "from IPython.display import Image\n",
    "Image(\"Capture_rcv.PNG\")"
   ]
  },
  {
   "cell_type": "markdown",
   "metadata": {},
   "source": [
    "**DEEP LEARNING MODEL**"
   ]
  },
  {
   "cell_type": "code",
   "execution_count": 10,
   "metadata": {},
   "outputs": [
    {
     "name": "stderr",
     "output_type": "stream",
     "text": [
      "Using TensorFlow backend.\n"
     ]
    }
   ],
   "source": [
    "import keras\n",
    "import tensorflow as tf\n",
    "from keras.utils.vis_utils import plot_model\n",
    "from keras.preprocessing.text import Tokenizer\n",
    "from keras.preprocessing.sequence import pad_sequences\n",
    "from keras.layers import Input, Dropout, Dense, concatenate, GRU, Embedding, Flatten, Activation,LSTM\n",
    "from keras.optimizers import Adam\n",
    "from keras.models import Model\n",
    "from keras.layers import Conv1D"
   ]
  },
  {
   "cell_type": "markdown",
   "metadata": {},
   "source": [
    "**handling categorical and text features**"
   ]
  },
  {
   "cell_type": "code",
   "execution_count": 11,
   "metadata": {},
   "outputs": [
    {
     "name": "stdout",
     "output_type": "stream",
     "text": [
      "(1254675, 50)\n",
      "(221414, 50)\n",
      "(3460725, 50)\n",
      "(1254675, 15)\n",
      "(221414, 15)\n",
      "(3460725, 15)\n",
      "8\n",
      "(1254675, 8)\n",
      "(221414, 8)\n",
      "(3460725, 8)\n",
      "2\n",
      "(1254675, 2)\n",
      "(221414, 2)\n",
      "(3460725, 2)\n",
      "4\n",
      "(1254675, 4)\n",
      "(221414, 4)\n",
      "(3460725, 4)\n",
      "6\n",
      "(1254675, 6)\n",
      "(221414, 6)\n",
      "(3460725, 6)\n"
     ]
    }
   ],
   "source": [
    "tokenizer = Tokenizer(oov_token=\"oov\" )\n",
    "tokenizer.fit_on_texts(X_train[\"item_description\"])\n",
    "X_train_desc  = tokenizer.texts_to_sequences(X_train['item_description'].values)\n",
    "X_test_desc   = tokenizer.texts_to_sequences(X_test['item_description'].values)\n",
    "test_desc     = tokenizer.texts_to_sequences(test['item_description'].values)\n",
    "X_train_desc = pad_sequences(X_train_desc, maxlen=50 , padding='post' )\n",
    "X_test_desc  = pad_sequences(X_test_desc, maxlen=50 , padding='post')\n",
    "test_desc      = pad_sequences(test_desc, maxlen=50 , padding='post')\n",
    "unique_desc = len(tokenizer.word_index)+1\n",
    "print(X_train_desc.shape)\n",
    "print(X_test_desc.shape)\n",
    "print(test_desc.shape)\n",
    "\n",
    "tokenizer = Tokenizer(oov_token=\"oov\" )\n",
    "tokenizer.fit_on_texts(X_train[\"name\"])\n",
    "X_train_name  = tokenizer.texts_to_sequences(X_train['name'].values)\n",
    "X_test_name   = tokenizer.texts_to_sequences(X_test['name'].values)\n",
    "test_name     = tokenizer.texts_to_sequences(test['name'].values)\n",
    "X_train_name = pad_sequences(X_train_name, maxlen=15 , padding='post' )\n",
    "X_test_name  = pad_sequences(X_test_name, maxlen=15 , padding='post')\n",
    "test_name    = pad_sequences(test_name, maxlen=15 , padding='post')\n",
    "unique_name = len(tokenizer.word_index)+1\n",
    "print(X_train_name.shape)\n",
    "print(X_test_name.shape)\n",
    "print(test_name.shape)\n",
    "\n",
    "\n",
    "tokenizer = Tokenizer(oov_token=\"oov\" )\n",
    "tokenizer.fit_on_texts(X_train[\"brand_name\"])\n",
    "X_train_brand  = tokenizer.texts_to_sequences(X_train['brand_name'].values)\n",
    "X_test_brand   = tokenizer.texts_to_sequences(X_test['brand_name'].values)\n",
    "test_brand     = tokenizer.texts_to_sequences(test['brand_name'].values)\n",
    "r=max([len(x) for x in X_train_brand])\n",
    "print(r)\n",
    "X_train_brand = pad_sequences(X_train_brand, maxlen=r , padding='post' )\n",
    "X_test_brand  = pad_sequences(X_test_brand, maxlen=r , padding='post')\n",
    "test_brand    = pad_sequences(test_brand, maxlen=r , padding='post')\n",
    "unique_brand = len(tokenizer.word_index)+1\n",
    "print(X_train_brand.shape)\n",
    "print(X_test_brand.shape)\n",
    "print(test_brand.shape)\n",
    "\n",
    "\n",
    "tokenizer = Tokenizer(oov_token=\"oov\" )\n",
    "tokenizer.fit_on_texts(X_train[\"cat_1\"])\n",
    "X_train_cat_1  = tokenizer.texts_to_sequences(X_train['cat_1'].values)\n",
    "X_test_cat_1   = tokenizer.texts_to_sequences(X_test['cat_1'].values)\n",
    "test_cat_1     = tokenizer.texts_to_sequences(test['cat_1'].values)\n",
    "r=max([len(x) for x in X_train_cat_1])\n",
    "print(r)\n",
    "X_train_cat_1 = pad_sequences(X_train_cat_1, maxlen=r , padding='post' )\n",
    "X_test_cat_1  = pad_sequences(X_test_cat_1, maxlen=r , padding='post')\n",
    "test_cat_1    = pad_sequences(test_cat_1, maxlen=r , padding='post')\n",
    "unique_cat_1 = len(tokenizer.word_index)+1\n",
    "print(X_train_cat_1.shape)\n",
    "print(X_test_cat_1.shape)\n",
    "print(test_cat_1.shape)\n",
    "\n",
    "\n",
    "tokenizer = Tokenizer(oov_token=\"oov\" )\n",
    "tokenizer.fit_on_texts(X_train[\"cat_2\"])\n",
    "X_train_cat_2  = tokenizer.texts_to_sequences(X_train['cat_2'].values)\n",
    "X_test_cat_2   = tokenizer.texts_to_sequences(X_test['cat_2'].values)\n",
    "test_cat_2     = tokenizer.texts_to_sequences(test['cat_2'].values)\n",
    "r=max([len(x) for x in X_train_cat_2])\n",
    "print(r)\n",
    "X_train_cat_2 = pad_sequences(X_train_cat_2, maxlen=r , padding='post' )\n",
    "X_test_cat_2  = pad_sequences(X_test_cat_2, maxlen=r , padding='post')\n",
    "test_cat_2    = pad_sequences(test_cat_2, maxlen=r , padding='post')\n",
    "unique_cat_2 = len(tokenizer.word_index)+1\n",
    "print(X_train_cat_2.shape)\n",
    "print(X_test_cat_2.shape)\n",
    "print(test_cat_2.shape)\n",
    "\n",
    "\n",
    "tokenizer = Tokenizer(oov_token=\"oov\" )\n",
    "tokenizer.fit_on_texts(X_train[\"cat_3\"])\n",
    "X_train_cat_3  = tokenizer.texts_to_sequences(X_train['cat_3'].values)\n",
    "X_test_cat_3   = tokenizer.texts_to_sequences(X_test['cat_3'].values)\n",
    "test_cat_3     = tokenizer.texts_to_sequences(test['cat_3'].values)\n",
    "r=max([len(x) for x in X_train_cat_3])\n",
    "print(r)\n",
    "X_train_cat_3 = pad_sequences(X_train_cat_3, maxlen=r , padding='post' )\n",
    "X_test_cat_3  = pad_sequences(X_test_cat_3, maxlen=r , padding='post')\n",
    "test_cat_3    = pad_sequences(test_cat_3, maxlen=r , padding='post')\n",
    "unique_cat_3 = len(tokenizer.word_index)+1\n",
    "print(X_train_cat_3.shape)\n",
    "print(X_test_cat_3.shape)\n",
    "print(test_cat_3.shape)"
   ]
  },
  {
   "cell_type": "markdown",
   "metadata": {},
   "source": [
    "**combining all numerical features**"
   ]
  },
  {
   "cell_type": "code",
   "execution_count": 12,
   "metadata": {},
   "outputs": [
    {
     "name": "stdout",
     "output_type": "stream",
     "text": [
      "(1254675, 9)\n",
      "(221414, 9)\n",
      "(3460725, 9)\n"
     ]
    }
   ],
   "source": [
    "X_train_numeric_features=np.concatenate((X_train_compound, X_train_pos,X_train_neu,X_train_neg,X_train_len,X_train_len_af,X_train_len_dif,X_train_ship,X_train_cond) , axis = 1)\n",
    "X_test_numeric_features=np.concatenate((X_test_compound, X_test_pos,X_test_neu,X_test_neg,X_test_len,X_test_len_af,X_test_len_dif,X_test_ship,X_test_cond) , axis = 1)\n",
    "test_numeric_features=np.concatenate((test_compound, test_pos,test_neu,test_neg,test_len,test_len_af,test_len_dif,test_ship,test_cond) , axis = 1)\n",
    "print(X_train_numeric_features.shape)\n",
    "print(X_test_numeric_features.shape)\n",
    "print(test_numeric_features.shape)"
   ]
  },
  {
   "cell_type": "markdown",
   "metadata": {},
   "source": [
    "**model architecture**"
   ]
  },
  {
   "cell_type": "code",
   "execution_count": 13,
   "metadata": {},
   "outputs": [
    {
     "name": "stdout",
     "output_type": "stream",
     "text": [
      "Model: \"functional_1\"\n",
      "__________________________________________________________________________________________________\n",
      "Layer (type)                    Output Shape         Param #     Connected to                     \n",
      "==================================================================================================\n",
      "description (InputLayer)        [(None, 50)]         0                                            \n",
      "__________________________________________________________________________________________________\n",
      "name (InputLayer)               [(None, 15)]         0                                            \n",
      "__________________________________________________________________________________________________\n",
      "embedding (Embedding)           (None, 50, 60)       8757060     description[0][0]                \n",
      "__________________________________________________________________________________________________\n",
      "embedding_1 (Embedding)         (None, 15, 30)       3230040     name[0][0]                       \n",
      "__________________________________________________________________________________________________\n",
      "conv1d (Conv1D)                 (None, 25, 32)       5792        embedding[0][0]                  \n",
      "__________________________________________________________________________________________________\n",
      "conv1d_2 (Conv1D)               (None, 8, 32)        2912        embedding_1[0][0]                \n",
      "__________________________________________________________________________________________________\n",
      "conv1d_1 (Conv1D)               (None, 13, 32)       3104        conv1d[0][0]                     \n",
      "__________________________________________________________________________________________________\n",
      "conv1d_3 (Conv1D)               (None, 4, 32)        3104        conv1d_2[0][0]                   \n",
      "__________________________________________________________________________________________________\n",
      "lstm (LSTM)                     (None, 13, 32)       8320        conv1d_1[0][0]                   \n",
      "__________________________________________________________________________________________________\n",
      "lstm_2 (LSTM)                   (None, 4, 16)        3136        conv1d_3[0][0]                   \n",
      "__________________________________________________________________________________________________\n",
      "brand (InputLayer)              [(None, 8)]          0                                            \n",
      "__________________________________________________________________________________________________\n",
      "cat_1 (InputLayer)              [(None, 2)]          0                                            \n",
      "__________________________________________________________________________________________________\n",
      "cat_2 (InputLayer)              [(None, 4)]          0                                            \n",
      "__________________________________________________________________________________________________\n",
      "cat_3 (InputLayer)              [(None, 6)]          0                                            \n",
      "__________________________________________________________________________________________________\n",
      "lstm_1 (LSTM)                   (None, 13, 16)       3136        lstm[0][0]                       \n",
      "__________________________________________________________________________________________________\n",
      "lstm_3 (LSTM)                   (None, 4, 8)         800         lstm_2[0][0]                     \n",
      "__________________________________________________________________________________________________\n",
      "embedding_2 (Embedding)         (None, 8, 20)        99080       brand[0][0]                      \n",
      "__________________________________________________________________________________________________\n",
      "embedding_3 (Embedding)         (None, 2, 10)        150         cat_1[0][0]                      \n",
      "__________________________________________________________________________________________________\n",
      "embedding_4 (Embedding)         (None, 4, 15)        2175        cat_2[0][0]                      \n",
      "__________________________________________________________________________________________________\n",
      "embedding_5 (Embedding)         (None, 6, 20)        19400       cat_3[0][0]                      \n",
      "__________________________________________________________________________________________________\n",
      "flatten (Flatten)               (None, 208)          0           lstm_1[0][0]                     \n",
      "__________________________________________________________________________________________________\n",
      "flatten_1 (Flatten)             (None, 32)           0           lstm_3[0][0]                     \n",
      "__________________________________________________________________________________________________\n",
      "flatten_2 (Flatten)             (None, 160)          0           embedding_2[0][0]                \n",
      "__________________________________________________________________________________________________\n",
      "flatten_3 (Flatten)             (None, 20)           0           embedding_3[0][0]                \n",
      "__________________________________________________________________________________________________\n",
      "flatten_4 (Flatten)             (None, 60)           0           embedding_4[0][0]                \n",
      "__________________________________________________________________________________________________\n",
      "flatten_5 (Flatten)             (None, 120)          0           embedding_5[0][0]                \n",
      "__________________________________________________________________________________________________\n",
      "numeric_features (InputLayer)   [(None, 9)]          0                                            \n",
      "__________________________________________________________________________________________________\n",
      "concatenate (Concatenate)       (None, 609)          0           flatten[0][0]                    \n",
      "                                                                 flatten_1[0][0]                  \n",
      "                                                                 flatten_2[0][0]                  \n",
      "                                                                 flatten_3[0][0]                  \n",
      "                                                                 flatten_4[0][0]                  \n",
      "                                                                 flatten_5[0][0]                  \n",
      "                                                                 numeric_features[0][0]           \n",
      "__________________________________________________________________________________________________\n",
      "dense (Dense)                   (None, 512)          312320      concatenate[0][0]                \n",
      "__________________________________________________________________________________________________\n",
      "dropout (Dropout)               (None, 512)          0           dense[0][0]                      \n",
      "__________________________________________________________________________________________________\n",
      "dense_1 (Dense)                 (None, 128)          65664       dropout[0][0]                    \n",
      "__________________________________________________________________________________________________\n",
      "dropout_1 (Dropout)             (None, 128)          0           dense_1[0][0]                    \n",
      "__________________________________________________________________________________________________\n",
      "dense_2 (Dense)                 (None, 1)            129         dropout_1[0][0]                  \n",
      "==================================================================================================\n",
      "Total params: 12,516,322\n",
      "Trainable params: 12,516,322\n",
      "Non-trainable params: 0\n",
      "__________________________________________________________________________________________________\n",
      "None\n"
     ]
    }
   ],
   "source": [
    "desc=Input(shape=(50,),name='description')\n",
    "e1=Embedding(output_dim=60,input_dim=unique_desc)(desc)\n",
    "l1=Conv1D(filters=32,kernel_size=3,strides=2,padding='same')(e1)\n",
    "l2=Conv1D(filters=32,kernel_size=3,strides=2,padding='same')(l1)\n",
    "l3=LSTM(32,return_sequences=True)(l2)\n",
    "l4=LSTM(16,return_sequences=True)(l3)\n",
    "f1=Flatten()(l4)\n",
    "name=Input(shape=(15,),name='name')\n",
    "e2=Embedding(output_dim=30,input_dim=unique_name)(name)\n",
    "l5=Conv1D(filters=32,kernel_size=3,strides=2,padding='same')(e2)\n",
    "l6=Conv1D(filters=32,kernel_size=3,strides=2,padding='same')(l5)\n",
    "l7=LSTM(16,return_sequences=True)(l6)\n",
    "l8=LSTM(8,return_sequences=True)(l7)\n",
    "f2=Flatten()(l8)\n",
    "brand=Input(shape=(8,),name='brand')\n",
    "e3=Embedding(output_dim=20,input_dim=unique_brand)(brand)\n",
    "f3=Flatten()(e3)\n",
    "cat_1=Input(shape=(2,),name='cat_1')\n",
    "e4=Embedding(output_dim=10,input_dim=unique_cat_1)(cat_1)\n",
    "f4=Flatten()(e4)\n",
    "cat_2=Input(shape=(4,),name='cat_2')\n",
    "e5=Embedding(output_dim=15,input_dim=unique_cat_2)(cat_2)\n",
    "f5=Flatten()(e5)\n",
    "cat_3=Input(shape=(6,),name='cat_3')\n",
    "e6=Embedding(output_dim=20,input_dim=unique_cat_3)(cat_3)\n",
    "f6=Flatten()(e6)\n",
    "nume=Input(shape=(9,),name='numeric_features')\n",
    "concat = concatenate([f1 , f2 , f3 ,f4 , f5 , f6 , nume],axis=1)\n",
    "d1=Dense(512,kernel_initializer='normal',activation='relu')(concat)\n",
    "dr1=Dropout(0.05)(d1)\n",
    "d2=Dense(128,kernel_initializer='normal',activation='relu')(dr1)\n",
    "dr2=Dropout(0.05)(d2)\n",
    "output = Dense(1, activation=\"linear\")(dr2)\n",
    "model=Model(inputs=[desc,name,brand,cat_1,cat_2,cat_3,nume],outputs=[output])\n",
    "print(model.summary())"
   ]
  },
  {
   "cell_type": "code",
   "execution_count": 14,
   "metadata": {},
   "outputs": [
    {
     "name": "stdout",
     "output_type": "stream",
     "text": [
      "Epoch 1/10\n",
      "1226/1226 [==============================] - 362s 296ms/step - loss: 0.2804 - val_loss: 0.2034\n",
      "Epoch 2/10\n",
      "1226/1226 [==============================] - 356s 291ms/step - loss: 0.1923 - val_loss: 0.1974\n",
      "Epoch 3/10\n",
      "1226/1226 [==============================] - 358s 292ms/step - loss: 0.1656 - val_loss: 0.1985\n",
      "Epoch 4/10\n",
      "1226/1226 [==============================] - 358s 292ms/step - loss: 0.1468 - val_loss: 0.2035\n",
      "Epoch 5/10\n",
      "1226/1226 [==============================] - 360s 293ms/step - loss: 0.1325 - val_loss: 0.1983\n"
     ]
    },
    {
     "data": {
      "text/plain": [
       "<tensorflow.python.keras.callbacks.History at 0x7fdf1abc9090>"
      ]
     },
     "execution_count": 14,
     "metadata": {},
     "output_type": "execute_result"
    }
   ],
   "source": [
    "model.compile(optimizer='adam', loss='mse')\n",
    "model.fit([X_train_desc,X_train_name,X_train_brand,X_train_cat_1,X_train_cat_2,X_train_cat_3,X_train_numeric_features],y_train,verbose=1,epochs=10,batch_size=1024,callbacks=tf.keras.callbacks.EarlyStopping(min_delta=0.01,monitor='val_loss',restore_best_weights=True,patience=4),validation_data=([X_test_desc,X_test_name,X_test_brand,X_test_cat_1,X_test_cat_2,X_test_cat_3,X_test_numeric_features],y_test))"
   ]
  },
  {
   "cell_type": "code",
   "execution_count": 15,
   "metadata": {},
   "outputs": [
    {
     "name": "stdout",
     "output_type": "stream",
     "text": [
      "0.4260290313851057\n",
      "0.45096916384213576\n"
     ]
    }
   ],
   "source": [
    "X_train_pred=model.predict([X_train_desc,X_train_name,X_train_brand,X_train_cat_1,X_train_cat_2,X_train_cat_3,X_train_numeric_features])\n",
    "X_test_pred=model.predict([X_test_desc,X_test_name,X_test_brand,X_test_cat_1,X_test_cat_2,X_test_cat_3,X_test_numeric_features])\n",
    "test_pred=model.predict([test_desc,test_name,test_brand,test_cat_1,test_cat_2,test_cat_3,test_numeric_features])\n",
    "rmsle_train=math.sqrt(mean_squared_error(y_train,X_train_pred))\n",
    "rmsle_test=math.sqrt(mean_squared_error(y_test,X_test_pred))\n",
    "print(rmsle_train)\n",
    "print(rmsle_test)"
   ]
  },
  {
   "cell_type": "code",
   "execution_count": 16,
   "metadata": {},
   "outputs": [],
   "source": [
    "test_pred=np.exp(test_pred)\n",
    "submission=pd.DataFrame()\n",
    "submission['test_id']=test_id\n",
    "submission['price']=test_pred\n",
    "submission.to_csv('submission_dep3.csv',index=False)"
   ]
  },
  {
   "cell_type": "code",
   "execution_count": 3,
   "metadata": {},
   "outputs": [
    {
     "data": {
      "image/png": "[encoded data removed]",
      "text/plain": [
       "<IPython.core.display.Image object>"
      ]
     },
     "execution_count": 3,
     "metadata": {},
     "output_type": "execute_result"
    }
   ],
   "source": [
    "from IPython.display import Image\n",
    "Image(\"Capture.PNG\")"
   ]
  },
  {
   "cell_type": "code",
   "execution_count": null,
   "metadata": {},
   "outputs": [],
   "source": []
  }
 ],
 "metadata": {
  "accelerator": "GPU",
  "colab": {
   "collapsed_sections": [],
   "name": "mercari1.ipynb",
   "provenance": []
  },
  "kernelspec": {
   "display_name": "Python 3",
   "language": "python",
   "name": "python3"
  },
  "language_info": {
   "codemirror_mode": {
    "name": "ipython",
    "version": 3
   },
   "file_extension": ".py",
   "mimetype": "text/x-python",
   "name": "python",
   "nbconvert_exporter": "python",
   "pygments_lexer": "ipython3",
   "version": "3.7.10"
  }
 },
 "nbformat": 4,
 "nbformat_minor": 1
}
